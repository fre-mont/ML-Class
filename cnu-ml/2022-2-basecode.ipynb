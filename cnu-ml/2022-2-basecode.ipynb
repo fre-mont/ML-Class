{
 "cells": [
  {
   "cell_type": "markdown",
   "id": "265ba86e",
   "metadata": {
    "papermill": {
     "duration": 0.010204,
     "end_time": "2022-10-31T09:48:59.183479",
     "exception": false,
     "start_time": "2022-10-31T09:48:59.173275",
     "status": "completed"
    },
    "tags": []
   },
   "source": [
    "### 대구도시공사_영구임대아파트 입주자 퇴거여부 예측 데이터셋\n",
    "출처: https://www.data.go.kr/data/15094266/fileData.do\n",
    "\n",
    "### 캐글 프라이빗 경진대회 베이스 코드\n",
    "- 베이스 코드는 참가자 분들을 위해 데이터 불러오기, 데이터 전처리, 모델 학습, 결과물 제출까지의 방법을 제공합니다.\n",
    "- 베이스 코드를 그대로 사용하지 마시고, 본인만의 데이터 전처리와 모델학습 그리고 결과 제출을 해주시길 바랍니다."
   ]
  },
  {
   "cell_type": "code",
   "execution_count": 1,
   "id": "e87c2745",
   "metadata": {
    "execution": {
     "iopub.execute_input": "2022-10-31T09:48:59.203795Z",
     "iopub.status.busy": "2022-10-31T09:48:59.203191Z",
     "iopub.status.idle": "2022-10-31T09:49:14.347623Z",
     "shell.execute_reply": "2022-10-31T09:49:14.346146Z"
    },
    "papermill": {
     "duration": 15.157924,
     "end_time": "2022-10-31T09:49:14.350513",
     "exception": false,
     "start_time": "2022-10-31T09:48:59.192589",
     "status": "completed"
    },
    "tags": []
   },
   "outputs": [
    {
     "name": "stdout",
     "output_type": "stream",
     "text": [
      "Collecting mglearn\r\n",
      "  Downloading mglearn-0.1.9.tar.gz (540 kB)\r\n",
      "\u001b[2K     \u001b[90m━━━━━━━━━━━━━━━━━━━━━━━━━━━━━━━━━━━━━━━\u001b[0m \u001b[32m540.1/540.1 kB\u001b[0m \u001b[31m7.2 MB/s\u001b[0m eta \u001b[36m0:00:00\u001b[0m\r\n",
      "\u001b[?25h  Preparing metadata (setup.py) ... \u001b[?25l-\b \bdone\r\n",
      "\u001b[?25hRequirement already satisfied: numpy in /opt/conda/lib/python3.7/site-packages (from mglearn) (1.21.6)\r\n",
      "Requirement already satisfied: matplotlib in /opt/conda/lib/python3.7/site-packages (from mglearn) (3.5.3)\r\n",
      "Requirement already satisfied: scikit-learn in /opt/conda/lib/python3.7/site-packages (from mglearn) (1.0.2)\r\n",
      "Requirement already satisfied: pandas in /opt/conda/lib/python3.7/site-packages (from mglearn) (1.3.5)\r\n",
      "Requirement already satisfied: pillow in /opt/conda/lib/python3.7/site-packages (from mglearn) (9.1.1)\r\n",
      "Requirement already satisfied: cycler in /opt/conda/lib/python3.7/site-packages (from mglearn) (0.11.0)\r\n",
      "Requirement already satisfied: imageio in /opt/conda/lib/python3.7/site-packages (from mglearn) (2.19.3)\r\n",
      "Requirement already satisfied: joblib in /opt/conda/lib/python3.7/site-packages (from mglearn) (1.0.1)\r\n",
      "Requirement already satisfied: fonttools>=4.22.0 in /opt/conda/lib/python3.7/site-packages (from matplotlib->mglearn) (4.33.3)\r\n",
      "Requirement already satisfied: pyparsing>=2.2.1 in /opt/conda/lib/python3.7/site-packages (from matplotlib->mglearn) (3.0.9)\r\n",
      "Requirement already satisfied: python-dateutil>=2.7 in /opt/conda/lib/python3.7/site-packages (from matplotlib->mglearn) (2.8.2)\r\n",
      "Requirement already satisfied: kiwisolver>=1.0.1 in /opt/conda/lib/python3.7/site-packages (from matplotlib->mglearn) (1.4.3)\r\n",
      "Requirement already satisfied: packaging>=20.0 in /opt/conda/lib/python3.7/site-packages (from matplotlib->mglearn) (21.3)\r\n",
      "Requirement already satisfied: pytz>=2017.3 in /opt/conda/lib/python3.7/site-packages (from pandas->mglearn) (2022.1)\r\n",
      "Requirement already satisfied: scipy>=1.1.0 in /opt/conda/lib/python3.7/site-packages (from scikit-learn->mglearn) (1.7.3)\r\n",
      "Requirement already satisfied: threadpoolctl>=2.0.0 in /opt/conda/lib/python3.7/site-packages (from scikit-learn->mglearn) (3.1.0)\r\n",
      "Requirement already satisfied: typing-extensions in /opt/conda/lib/python3.7/site-packages (from kiwisolver>=1.0.1->matplotlib->mglearn) (4.4.0)\r\n",
      "Requirement already satisfied: six>=1.5 in /opt/conda/lib/python3.7/site-packages (from python-dateutil>=2.7->matplotlib->mglearn) (1.15.0)\r\n",
      "Building wheels for collected packages: mglearn\r\n",
      "  Building wheel for mglearn (setup.py) ... \u001b[?25l-\b \b\\\b \b|\b \bdone\r\n",
      "\u001b[?25h  Created wheel for mglearn: filename=mglearn-0.1.9-py2.py3-none-any.whl size=582639 sha256=8d6b7338f9d9688b007e53288c886681ed49bc7505073870e26beea034a1f892\r\n",
      "  Stored in directory: /root/.cache/pip/wheels/f1/17/e1/1720d6dcd70187b6b6c3750cb3508798f2b1d57c9d3214b08b\r\n",
      "Successfully built mglearn\r\n",
      "Installing collected packages: mglearn\r\n",
      "Successfully installed mglearn-0.1.9\r\n",
      "\u001b[33mWARNING: Running pip as the 'root' user can result in broken permissions and conflicting behaviour with the system package manager. It is recommended to use a virtual environment instead: https://pip.pypa.io/warnings/venv\u001b[0m\u001b[33m\r\n",
      "\u001b[0m"
     ]
    }
   ],
   "source": [
    "!pip install mglearn"
   ]
  },
  {
   "cell_type": "code",
   "execution_count": 2,
   "id": "11b97418",
   "metadata": {
    "execution": {
     "iopub.execute_input": "2022-10-31T09:49:14.374106Z",
     "iopub.status.busy": "2022-10-31T09:49:14.372799Z",
     "iopub.status.idle": "2022-10-31T09:49:15.501204Z",
     "shell.execute_reply": "2022-10-31T09:49:15.500063Z"
    },
    "papermill": {
     "duration": 1.143237,
     "end_time": "2022-10-31T09:49:15.504070",
     "exception": false,
     "start_time": "2022-10-31T09:49:14.360833",
     "status": "completed"
    },
    "tags": []
   },
   "outputs": [],
   "source": [
    "import pandas as pd\n",
    "import matplotlib.pyplot as plt\n",
    "import seaborn as sns\n",
    "\n",
    "import warnings\n",
    "warnings.filterwarnings(action='ignore')"
   ]
  },
  {
   "cell_type": "code",
   "execution_count": 3,
   "id": "1653a664",
   "metadata": {
    "execution": {
     "iopub.execute_input": "2022-10-31T09:49:15.528018Z",
     "iopub.status.busy": "2022-10-31T09:49:15.527587Z",
     "iopub.status.idle": "2022-10-31T09:49:15.910003Z",
     "shell.execute_reply": "2022-10-31T09:49:15.908847Z"
    },
    "papermill": {
     "duration": 0.396646,
     "end_time": "2022-10-31T09:49:15.912687",
     "exception": false,
     "start_time": "2022-10-31T09:49:15.516041",
     "status": "completed"
    },
    "tags": []
   },
   "outputs": [],
   "source": [
    "#본인의 파일 경로로 지정\n",
    "train_data = pd.read_csv('../input/cnu-ml/train.csv')\n",
    "test_data = pd.read_csv('../input/cnu-ml/test.csv')"
   ]
  },
  {
   "cell_type": "code",
   "execution_count": 4,
   "id": "c20b6a33",
   "metadata": {
    "execution": {
     "iopub.execute_input": "2022-10-31T09:49:15.935045Z",
     "iopub.status.busy": "2022-10-31T09:49:15.934630Z",
     "iopub.status.idle": "2022-10-31T09:49:15.986003Z",
     "shell.execute_reply": "2022-10-31T09:49:15.984713Z"
    },
    "papermill": {
     "duration": 0.065911,
     "end_time": "2022-10-31T09:49:15.989188",
     "exception": false,
     "start_time": "2022-10-31T09:49:15.923277",
     "status": "completed"
    },
    "tags": []
   },
   "outputs": [
    {
     "name": "stdout",
     "output_type": "stream",
     "text": [
      "          id     순번 계약구분  재계약횟수  거주개월    아파트 이름  아파트 ID  아파트 평점  호실고유번호   층  \\\n",
      "0      61187   9167   해지      3    75     용지아파트       2       7   61188   9   \n",
      "1      70016  10398   유효     10   222     용지아파트       2       7   70016   7   \n",
      "2      52239   7859   유효      3    80     용지아파트       2       7   52233   2   \n",
      "3      85470  12689   유효     10   222  지산5단지아파트       3       8   85460   6   \n",
      "4       7941   1161   해지      7   157    비둘기아파트       1       5    4750   8   \n",
      "...      ...    ...  ...    ...   ...       ...     ...     ...     ...  ..   \n",
      "60827  68464  10174   유효     11   241     용지아파트       2       7   68457  12   \n",
      "60828  43649   6574   유효     10   222     용지아파트       2       7   38827   6   \n",
      "60829   5864    853   해지      4    88    비둘기아파트       1       5    2669  12   \n",
      "60830  22552   3361   유효     10   234    비둘기아파트       1       5   22543   1   \n",
      "60831  22858   3407   해지      4    94    비둘기아파트       1       5   22852   3   \n",
      "\n",
      "       ...    퇴거연도  거주연도   월세(원)    보증금(원)  대표나이  나이  성별  결혼여부  거주자 수  \\\n",
      "0      ...  2012.0  2008   40300   1897000    92  79   남    미혼      1   \n",
      "1      ...     NaN  2009   64700   4320000    75  63   남    기혼      2   \n",
      "2      ...     NaN  2015   36700   1954000    81  75   남    기혼      2   \n",
      "3      ...     NaN  2019   66600   3116000    72  70   여    미혼      1   \n",
      "4      ...  2015.0  2015  146300  10259000    66  60   여    미혼      3   \n",
      "...    ...     ...   ...     ...       ...   ...  ..  ..   ...    ...   \n",
      "60827  ...     NaN  2016   43600   2052000    54  49   여    미혼      1   \n",
      "60828  ...     NaN  2015  120900   8073000    66  60   남    미혼      1   \n",
      "60829  ...  2018.0  2018   50600   3183000    54  51   여    미혼      1   \n",
      "60830  ...     NaN  2018   58000   4716000    49  46   남    기혼      3   \n",
      "60831  ...  2015.0  2015   39200   1964000    63  57   남    미혼      1   \n",
      "\n",
      "       move_out  \n",
      "0             1  \n",
      "1             1  \n",
      "2             1  \n",
      "3             1  \n",
      "4             0  \n",
      "...         ...  \n",
      "60827         1  \n",
      "60828         1  \n",
      "60829         0  \n",
      "60830         1  \n",
      "60831         0  \n",
      "\n",
      "[60832 rows x 24 columns]\n",
      "          id     순번 계약구분  재계약횟수  거주개월    아파트 이름  아파트 ID  아파트 평점  호실고유번호   층  \\\n",
      "0      77315  11572   해지      5   106  지산5단지아파트       3       8   77315   6   \n",
      "1       9515   1387   유효      8   186    비둘기아파트       1       5    6460   1   \n",
      "2       1668    231   유효     10   222     까치아파트       4      10    7227   4   \n",
      "3      57273   8567   유효      7   156     용지아파트       2       7   57271  13   \n",
      "4      19049   2817   유효      3    79    비둘기아파트       1       5   19042   3   \n",
      "...      ...    ...  ...    ...   ...       ...     ...     ...     ...  ..   \n",
      "26067  81241  12110   유효      7   162  지산5단지아파트       3       8   81236  11   \n",
      "26068  83076  12351   유효      8   192  지산5단지아파트       3       8   83071   6   \n",
      "26069  25820   3846   유효     10   234    비둘기아파트       1       5   25810  14   \n",
      "26070  36133   5417   유효     10   244    비둘기아파트       1       5   41721  14   \n",
      "26071    680     92   해지      9   214     강남아파트       5       7   16356   7   \n",
      "\n",
      "       ...  입주연도    퇴거연도  거주연도   월세(원)   보증금(원)  대표나이  나이  성별  결혼여부  거주자 수  \n",
      "0      ...  2003  2011.0  2009   62500  4290000    94  82   여    미혼      1  \n",
      "1      ...  2006     NaN  2008   33700  1907000    62  49   여    미혼      2  \n",
      "2      ...  2003     NaN  2016   53600  2600000    72  67   여    미혼      1  \n",
      "3      ...  2008     NaN  2010   40300  1897000    52  41   여    미혼      2  \n",
      "4      ...  2014     NaN  2015   39200  1964000    89  83   남    미혼      1  \n",
      "...    ...   ...     ...   ...     ...      ...   ...  ..  ..   ...    ...  \n",
      "26067  ...  2008     NaN  2014   38400  1777000    82  75   여    미혼      1  \n",
      "26068  ...  2005     NaN  2014   86300  5912000    69  62   남    기혼      2  \n",
      "26069  ...  2002     NaN  2019   41200  2062000    89  87   여    미혼      1  \n",
      "26070  ...  2001     NaN  2017   62400  3112000    66  62   남    기혼      3  \n",
      "26071  ...  2003  2020.0  2015  146400  9780000    66  60   여    미혼      1  \n",
      "\n",
      "[26072 rows x 23 columns]\n"
     ]
    }
   ],
   "source": [
    "#test 데이터에는 예측해야할 \"move_out(퇴거여부)\"가 없는 데이터 -> 이를 예측하여 결과 파일로 캐글에 제출해야함!\n",
    "print(train_data)\n",
    "print(test_data)"
   ]
  },
  {
   "cell_type": "code",
   "execution_count": 5,
   "id": "8d69bd26",
   "metadata": {
    "execution": {
     "iopub.execute_input": "2022-10-31T09:49:16.012256Z",
     "iopub.status.busy": "2022-10-31T09:49:16.011515Z",
     "iopub.status.idle": "2022-10-31T09:49:16.041539Z",
     "shell.execute_reply": "2022-10-31T09:49:16.039740Z"
    },
    "papermill": {
     "duration": 0.04459,
     "end_time": "2022-10-31T09:49:16.044625",
     "exception": false,
     "start_time": "2022-10-31T09:49:16.000035",
     "status": "completed"
    },
    "tags": []
   },
   "outputs": [
    {
     "name": "stdout",
     "output_type": "stream",
     "text": [
      "Train Data 결측치 확인: \n",
      " id              0\n",
      "순번              0\n",
      "계약구분            0\n",
      "재계약횟수           0\n",
      "거주개월            0\n",
      "아파트 이름          0\n",
      "아파트 ID          0\n",
      "아파트 평점          0\n",
      "호실고유번호          0\n",
      "층               0\n",
      "평형대             0\n",
      "계약자고유번호         0\n",
      "계약서고유번호         0\n",
      "입주연도            0\n",
      "퇴거연도        42799\n",
      "거주연도            0\n",
      "월세(원)           0\n",
      "보증금(원)          0\n",
      "대표나이            0\n",
      "나이              0\n",
      "성별              0\n",
      "결혼여부            0\n",
      "거주자 수           0\n",
      "move_out        0\n",
      "dtype: int64\n",
      "--------------------------------------------------------------------------------------------------------\n",
      "Test Data 결측치 확인: \n",
      " id             0\n",
      "순번             0\n",
      "계약구분           0\n",
      "재계약횟수          0\n",
      "거주개월           0\n",
      "아파트 이름         0\n",
      "아파트 ID         0\n",
      "아파트 평점         0\n",
      "호실고유번호         0\n",
      "층              0\n",
      "평형대            0\n",
      "계약자고유번호        0\n",
      "계약서고유번호        0\n",
      "입주연도           0\n",
      "퇴거연도       18343\n",
      "거주연도           0\n",
      "월세(원)          0\n",
      "보증금(원)         0\n",
      "대표나이           0\n",
      "나이             0\n",
      "성별             0\n",
      "결혼여부           0\n",
      "거주자 수          0\n",
      "dtype: int64\n"
     ]
    }
   ],
   "source": [
    "#데이터 결측치 확인\n",
    "print(\"Train Data 결측치 확인: \\n\", train_data.isnull().sum())\n",
    "print(\"-------------\"*8)\n",
    "print(\"Test Data 결측치 확인: \\n\", test_data.isnull().sum())"
   ]
  },
  {
   "cell_type": "markdown",
   "id": "4f9c766a",
   "metadata": {
    "papermill": {
     "duration": 0.010407,
     "end_time": "2022-10-31T09:49:16.066247",
     "exception": false,
     "start_time": "2022-10-31T09:49:16.055840",
     "status": "completed"
    },
    "tags": []
   },
   "source": [
    "### 데이터 전처리  \n",
    "  \n",
    "- 베이스 코드에서는 간단하게 결측치가 있는 \"퇴거연도\" column을 drop하겠습니다."
   ]
  },
  {
   "cell_type": "code",
   "execution_count": 6,
   "id": "782d43f6",
   "metadata": {
    "execution": {
     "iopub.execute_input": "2022-10-31T09:49:16.089466Z",
     "iopub.status.busy": "2022-10-31T09:49:16.089057Z",
     "iopub.status.idle": "2022-10-31T09:49:16.110852Z",
     "shell.execute_reply": "2022-10-31T09:49:16.109618Z"
    },
    "papermill": {
     "duration": 0.03672,
     "end_time": "2022-10-31T09:49:16.113541",
     "exception": false,
     "start_time": "2022-10-31T09:49:16.076821",
     "status": "completed"
    },
    "tags": []
   },
   "outputs": [],
   "source": [
    "#베이스 코드에서는 결측치가 많은 \"퇴거연도\" 컬럼을 drop 하기로 함!\n",
    "#이게 정답은 아니고, 결측치 처리 기법은 여러 기법이 있으므로 다양한 시도를 해볼 것을 추천\n",
    "\n",
    "train_data = train_data.drop(['퇴거연도'], axis='columns')\n",
    "test_data = test_data.drop(['퇴거연도'], axis='columns')"
   ]
  },
  {
   "cell_type": "code",
   "execution_count": 7,
   "id": "d4985747",
   "metadata": {
    "execution": {
     "iopub.execute_input": "2022-10-31T09:49:16.136249Z",
     "iopub.status.busy": "2022-10-31T09:49:16.135892Z",
     "iopub.status.idle": "2022-10-31T09:49:16.167834Z",
     "shell.execute_reply": "2022-10-31T09:49:16.166772Z"
    },
    "papermill": {
     "duration": 0.047023,
     "end_time": "2022-10-31T09:49:16.171015",
     "exception": false,
     "start_time": "2022-10-31T09:49:16.123992",
     "status": "completed"
    },
    "tags": []
   },
   "outputs": [
    {
     "name": "stdout",
     "output_type": "stream",
     "text": [
      "<class 'pandas.core.frame.DataFrame'>\n",
      "RangeIndex: 60832 entries, 0 to 60831\n",
      "Data columns (total 23 columns):\n",
      " #   Column    Non-Null Count  Dtype \n",
      "---  ------    --------------  ----- \n",
      " 0   id        60832 non-null  int64 \n",
      " 1   순번        60832 non-null  int64 \n",
      " 2   계약구분      60832 non-null  object\n",
      " 3   재계약횟수     60832 non-null  int64 \n",
      " 4   거주개월      60832 non-null  int64 \n",
      " 5   아파트 이름    60832 non-null  object\n",
      " 6   아파트 ID    60832 non-null  int64 \n",
      " 7   아파트 평점    60832 non-null  int64 \n",
      " 8   호실고유번호    60832 non-null  int64 \n",
      " 9   층         60832 non-null  int64 \n",
      " 10  평형대       60832 non-null  int64 \n",
      " 11  계약자고유번호   60832 non-null  int64 \n",
      " 12  계약서고유번호   60832 non-null  int64 \n",
      " 13  입주연도      60832 non-null  int64 \n",
      " 14  거주연도      60832 non-null  int64 \n",
      " 15  월세(원)     60832 non-null  int64 \n",
      " 16  보증금(원)    60832 non-null  int64 \n",
      " 17  대표나이      60832 non-null  int64 \n",
      " 18  나이        60832 non-null  int64 \n",
      " 19  성별        60832 non-null  object\n",
      " 20  결혼여부      60832 non-null  object\n",
      " 21  거주자 수     60832 non-null  int64 \n",
      " 22  move_out  60832 non-null  int64 \n",
      "dtypes: int64(19), object(4)\n",
      "memory usage: 10.7+ MB\n"
     ]
    }
   ],
   "source": [
    "#퇴거연도가 drop되었음을 확인\n",
    "#'계약구분','아파트 이름', '성별', '결혼여부'는 데이터가 문자열임을 확인할 수 있고 추후 이를 인코딩해주는 과정이 필요함\n",
    "train_data.info()"
   ]
  },
  {
   "cell_type": "code",
   "execution_count": 8,
   "id": "1c191350",
   "metadata": {
    "execution": {
     "iopub.execute_input": "2022-10-31T09:49:16.194057Z",
     "iopub.status.busy": "2022-10-31T09:49:16.193627Z",
     "iopub.status.idle": "2022-10-31T09:49:16.213626Z",
     "shell.execute_reply": "2022-10-31T09:49:16.211930Z"
    },
    "papermill": {
     "duration": 0.034258,
     "end_time": "2022-10-31T09:49:16.216028",
     "exception": false,
     "start_time": "2022-10-31T09:49:16.181770",
     "status": "completed"
    },
    "tags": []
   },
   "outputs": [
    {
     "name": "stdout",
     "output_type": "stream",
     "text": [
      "<class 'pandas.core.frame.DataFrame'>\n",
      "RangeIndex: 26072 entries, 0 to 26071\n",
      "Data columns (total 22 columns):\n",
      " #   Column   Non-Null Count  Dtype \n",
      "---  ------   --------------  ----- \n",
      " 0   id       26072 non-null  int64 \n",
      " 1   순번       26072 non-null  int64 \n",
      " 2   계약구분     26072 non-null  object\n",
      " 3   재계약횟수    26072 non-null  int64 \n",
      " 4   거주개월     26072 non-null  int64 \n",
      " 5   아파트 이름   26072 non-null  object\n",
      " 6   아파트 ID   26072 non-null  int64 \n",
      " 7   아파트 평점   26072 non-null  int64 \n",
      " 8   호실고유번호   26072 non-null  int64 \n",
      " 9   층        26072 non-null  int64 \n",
      " 10  평형대      26072 non-null  int64 \n",
      " 11  계약자고유번호  26072 non-null  int64 \n",
      " 12  계약서고유번호  26072 non-null  int64 \n",
      " 13  입주연도     26072 non-null  int64 \n",
      " 14  거주연도     26072 non-null  int64 \n",
      " 15  월세(원)    26072 non-null  int64 \n",
      " 16  보증금(원)   26072 non-null  int64 \n",
      " 17  대표나이     26072 non-null  int64 \n",
      " 18  나이       26072 non-null  int64 \n",
      " 19  성별       26072 non-null  object\n",
      " 20  결혼여부     26072 non-null  object\n",
      " 21  거주자 수    26072 non-null  int64 \n",
      "dtypes: int64(18), object(4)\n",
      "memory usage: 4.4+ MB\n"
     ]
    }
   ],
   "source": [
    "test_data.info()"
   ]
  },
  {
   "cell_type": "code",
   "execution_count": 9,
   "id": "7636009e",
   "metadata": {
    "execution": {
     "iopub.execute_input": "2022-10-31T09:49:16.238893Z",
     "iopub.status.busy": "2022-10-31T09:49:16.238515Z",
     "iopub.status.idle": "2022-10-31T09:49:16.248113Z",
     "shell.execute_reply": "2022-10-31T09:49:16.247258Z"
    },
    "papermill": {
     "duration": 0.023601,
     "end_time": "2022-10-31T09:49:16.250238",
     "exception": false,
     "start_time": "2022-10-31T09:49:16.226637",
     "status": "completed"
    },
    "tags": []
   },
   "outputs": [
    {
     "data": {
      "text/plain": [
       "0        1\n",
       "1        1\n",
       "2        1\n",
       "3        1\n",
       "4        0\n",
       "        ..\n",
       "60827    1\n",
       "60828    1\n",
       "60829    0\n",
       "60830    1\n",
       "60831    0\n",
       "Name: move_out, Length: 60832, dtype: int64"
      ]
     },
     "execution_count": 9,
     "metadata": {},
     "output_type": "execute_result"
    }
   ],
   "source": [
    "# 0:퇴거 / 1:미퇴거\n",
    "train_data['move_out']"
   ]
  },
  {
   "cell_type": "code",
   "execution_count": 10,
   "id": "f1125e68",
   "metadata": {
    "execution": {
     "iopub.execute_input": "2022-10-31T09:49:16.274097Z",
     "iopub.status.busy": "2022-10-31T09:49:16.273652Z",
     "iopub.status.idle": "2022-10-31T09:49:16.282675Z",
     "shell.execute_reply": "2022-10-31T09:49:16.281550Z"
    },
    "papermill": {
     "duration": 0.023501,
     "end_time": "2022-10-31T09:49:16.284771",
     "exception": false,
     "start_time": "2022-10-31T09:49:16.261270",
     "status": "completed"
    },
    "tags": []
   },
   "outputs": [
    {
     "data": {
      "text/plain": [
       "1    57882\n",
       "0     2950\n",
       "Name: move_out, dtype: int64"
      ]
     },
     "execution_count": 10,
     "metadata": {},
     "output_type": "execute_result"
    }
   ],
   "source": [
    "#불균형 데이터셋임을 확인할 수 있음\n",
    "train_data['move_out'].value_counts()"
   ]
  },
  {
   "cell_type": "code",
   "execution_count": 11,
   "id": "81ac1120",
   "metadata": {
    "execution": {
     "iopub.execute_input": "2022-10-31T09:49:16.307939Z",
     "iopub.status.busy": "2022-10-31T09:49:16.307554Z",
     "iopub.status.idle": "2022-10-31T09:49:16.540589Z",
     "shell.execute_reply": "2022-10-31T09:49:16.539746Z"
    },
    "papermill": {
     "duration": 0.24725,
     "end_time": "2022-10-31T09:49:16.542774",
     "exception": false,
     "start_time": "2022-10-31T09:49:16.295524",
     "status": "completed"
    },
    "tags": []
   },
   "outputs": [
    {
     "data": {
      "text/plain": [
       "<AxesSubplot:>"
      ]
     },
     "execution_count": 11,
     "metadata": {},
     "output_type": "execute_result"
    },
    {
     "data": {
      "image/png": "[encoded data removed]",
      "text/plain": [
       "<Figure size 432x288 with 1 Axes>"
      ]
     },
     "metadata": {
      "needs_background": "light"
     },
     "output_type": "display_data"
    }
   ],
   "source": [
    "#시각화\n",
    "train_data['move_out'].value_counts().plot.bar()"
   ]
  },
  {
   "cell_type": "code",
   "execution_count": 12,
   "id": "48c2b822",
   "metadata": {
    "execution": {
     "iopub.execute_input": "2022-10-31T09:49:16.567362Z",
     "iopub.status.busy": "2022-10-31T09:49:16.566719Z",
     "iopub.status.idle": "2022-10-31T09:49:16.578586Z",
     "shell.execute_reply": "2022-10-31T09:49:16.577345Z"
    },
    "papermill": {
     "duration": 0.026557,
     "end_time": "2022-10-31T09:49:16.580739",
     "exception": false,
     "start_time": "2022-10-31T09:49:16.554182",
     "status": "completed"
    },
    "tags": []
   },
   "outputs": [
    {
     "data": {
      "text/plain": [
       "유효    42799\n",
       "해지    18033\n",
       "Name: 계약구분, dtype: int64"
      ]
     },
     "execution_count": 12,
     "metadata": {},
     "output_type": "execute_result"
    }
   ],
   "source": [
    "train_data['계약구분'].value_counts()"
   ]
  },
  {
   "cell_type": "code",
   "execution_count": 13,
   "id": "b3dfefc4",
   "metadata": {
    "execution": {
     "iopub.execute_input": "2022-10-31T09:49:16.604777Z",
     "iopub.status.busy": "2022-10-31T09:49:16.604387Z",
     "iopub.status.idle": "2022-10-31T09:49:16.616999Z",
     "shell.execute_reply": "2022-10-31T09:49:16.615700Z"
    },
    "papermill": {
     "duration": 0.027583,
     "end_time": "2022-10-31T09:49:16.619482",
     "exception": false,
     "start_time": "2022-10-31T09:49:16.591899",
     "status": "completed"
    },
    "tags": []
   },
   "outputs": [
    {
     "data": {
      "text/plain": [
       "비둘기아파트      25228\n",
       "용지아파트       23792\n",
       "지산5단지아파트     9591\n",
       "까치아파트        1329\n",
       "강남아파트         892\n",
       "Name: 아파트 이름, dtype: int64"
      ]
     },
     "execution_count": 13,
     "metadata": {},
     "output_type": "execute_result"
    }
   ],
   "source": [
    "train_data['아파트 이름'].value_counts()"
   ]
  },
  {
   "cell_type": "code",
   "execution_count": 14,
   "id": "fe39c474",
   "metadata": {
    "execution": {
     "iopub.execute_input": "2022-10-31T09:49:16.644372Z",
     "iopub.status.busy": "2022-10-31T09:49:16.643927Z",
     "iopub.status.idle": "2022-10-31T09:49:16.655733Z",
     "shell.execute_reply": "2022-10-31T09:49:16.654680Z"
    },
    "papermill": {
     "duration": 0.027085,
     "end_time": "2022-10-31T09:49:16.657891",
     "exception": false,
     "start_time": "2022-10-31T09:49:16.630806",
     "status": "completed"
    },
    "tags": []
   },
   "outputs": [
    {
     "data": {
      "text/plain": [
       "여    35812\n",
       "남    25020\n",
       "Name: 성별, dtype: int64"
      ]
     },
     "execution_count": 14,
     "metadata": {},
     "output_type": "execute_result"
    }
   ],
   "source": [
    "train_data['성별'].value_counts()"
   ]
  },
  {
   "cell_type": "code",
   "execution_count": 15,
   "id": "675099d2",
   "metadata": {
    "execution": {
     "iopub.execute_input": "2022-10-31T09:49:16.682818Z",
     "iopub.status.busy": "2022-10-31T09:49:16.681921Z",
     "iopub.status.idle": "2022-10-31T09:49:16.693633Z",
     "shell.execute_reply": "2022-10-31T09:49:16.692515Z"
    },
    "papermill": {
     "duration": 0.026264,
     "end_time": "2022-10-31T09:49:16.695671",
     "exception": false,
     "start_time": "2022-10-31T09:49:16.669407",
     "status": "completed"
    },
    "tags": []
   },
   "outputs": [
    {
     "data": {
      "text/plain": [
       "미혼    52013\n",
       "기혼     8819\n",
       "Name: 결혼여부, dtype: int64"
      ]
     },
     "execution_count": 15,
     "metadata": {},
     "output_type": "execute_result"
    }
   ],
   "source": [
    "train_data['결혼여부'].value_counts()"
   ]
  },
  {
   "cell_type": "markdown",
   "id": "eb3a6acc",
   "metadata": {
    "papermill": {
     "duration": 0.01102,
     "end_time": "2022-10-31T09:49:16.718089",
     "exception": false,
     "start_time": "2022-10-31T09:49:16.707069",
     "status": "completed"
    },
    "tags": []
   },
   "source": [
    "### get_dummies()\n",
    "- pandas에서는 get_dummies() 함수를 사용해 데이터를 매우 쉽게 인코딩 가능\n",
    "- 객체 타입이나 범주형을 가진 열을 자동으로 변환해줌"
   ]
  },
  {
   "cell_type": "code",
   "execution_count": 16,
   "id": "149ee7d9",
   "metadata": {
    "execution": {
     "iopub.execute_input": "2022-10-31T09:49:16.742531Z",
     "iopub.status.busy": "2022-10-31T09:49:16.742070Z",
     "iopub.status.idle": "2022-10-31T09:49:16.810577Z",
     "shell.execute_reply": "2022-10-31T09:49:16.809345Z"
    },
    "papermill": {
     "duration": 0.083693,
     "end_time": "2022-10-31T09:49:16.813142",
     "exception": false,
     "start_time": "2022-10-31T09:49:16.729449",
     "status": "completed"
    },
    "tags": []
   },
   "outputs": [
    {
     "name": "stdout",
     "output_type": "stream",
     "text": [
      "Train Data 원본:\n",
      " ['id', '순번', '계약구분', '재계약횟수', '거주개월', '아파트 이름', '아파트 ID', '아파트 평점', '호실고유번호', '층', '평형대', '계약자고유번호', '계약서고유번호', '입주연도', '거주연도', '월세(원)', '보증금(원)', '대표나이', '나이', '성별', '결혼여부', '거주자 수', 'move_out'] \n",
      "\n",
      "get_dummies 후의 특성:\n",
      " ['id', '순번', '재계약횟수', '거주개월', '아파트 ID', '아파트 평점', '호실고유번호', '층', '평형대', '계약자고유번호', '계약서고유번호', '입주연도', '거주연도', '월세(원)', '보증금(원)', '대표나이', '나이', '거주자 수', 'move_out', '계약구분_해지', '아파트 이름_까치아파트', '아파트 이름_비둘기아파트', '아파트 이름_용지아파트', '아파트 이름_지산5단지아파트', '성별_여', '결혼여부_미혼']\n",
      "---------------------------------------------------------\n",
      "테스트 데이터 원본 특성:\n",
      " ['id', '순번', '계약구분', '재계약횟수', '거주개월', '아파트 이름', '아파트 ID', '아파트 평점', '호실고유번호', '층', '평형대', '계약자고유번호', '계약서고유번호', '입주연도', '거주연도', '월세(원)', '보증금(원)', '대표나이', '나이', '성별', '결혼여부', '거주자 수'] \n",
      "\n",
      "get_dummies 후의 특성:\n",
      " ['id', '순번', '재계약횟수', '거주개월', '아파트 ID', '아파트 평점', '호실고유번호', '층', '평형대', '계약자고유번호', '계약서고유번호', '입주연도', '거주연도', '월세(원)', '보증금(원)', '대표나이', '나이', '거주자 수', '계약구분_해지', '아파트 이름_까치아파트', '아파트 이름_비둘기아파트', '아파트 이름_용지아파트', '아파트 이름_지산5단지아파트', '성별_여', '결혼여부_미혼']\n"
     ]
    }
   ],
   "source": [
    "#위의 4개의 변수는 \"범주형 변수\"로 보이므로, get_dummies() 함수 사용하여 전처리\n",
    "#drop_first=True 옵션으로 가변수의 첫번째 변수를 자동 삭제하여 가변수 함정(dummy trap) 방지\n",
    "\n",
    "print(\"Train Data 원본:\\n\", list(train_data.columns), \"\\n\")\n",
    "train_data = pd.get_dummies(train_data, drop_first=True)\n",
    "print(\"get_dummies 후의 특성:\\n\", list(train_data.columns))\n",
    "\n",
    "print(\"---------------------------------------------------------\")\n",
    "\n",
    "print(\"테스트 데이터 원본 특성:\\n\", list(test_data.columns), \"\\n\")\n",
    "test_data = pd.get_dummies(test_data, drop_first=True)\n",
    "print(\"get_dummies 후의 특성:\\n\", list(test_data.columns))"
   ]
  },
  {
   "cell_type": "code",
   "execution_count": 17,
   "id": "0c306bad",
   "metadata": {
    "execution": {
     "iopub.execute_input": "2022-10-31T09:49:16.837795Z",
     "iopub.status.busy": "2022-10-31T09:49:16.837394Z",
     "iopub.status.idle": "2022-10-31T09:49:16.859112Z",
     "shell.execute_reply": "2022-10-31T09:49:16.858007Z"
    },
    "papermill": {
     "duration": 0.036664,
     "end_time": "2022-10-31T09:49:16.861382",
     "exception": false,
     "start_time": "2022-10-31T09:49:16.824718",
     "status": "completed"
    },
    "tags": []
   },
   "outputs": [
    {
     "data": {
      "text/plain": [
       "<bound method NDFrame._add_numeric_operations.<locals>.all of           id     순번  재계약횟수  거주개월  아파트 ID  아파트 평점  호실고유번호   층  평형대  계약자고유번호  \\\n",
       "0      61187   9167      3    75       2       7   61188   9   12    39791   \n",
       "1      70016  10398     10   222       2       7   70016   7   12    35240   \n",
       "2      52239   7859      3    80       2       7   52233   2   12    47631   \n",
       "3      85470  12689     10   222       3       8   85460   6   19     5959   \n",
       "4       7941   1161      7   157       1       5    4750   8   19    51081   \n",
       "...      ...    ...    ...   ...     ...     ...     ...  ..  ...      ...   \n",
       "60827  68464  10174     11   241       2       7   68457  12   12    20968   \n",
       "60828  43649   6574     10   222       2       7   38827   6   12    19359   \n",
       "60829   5864    853      4    88       1       5    2669  12   12    79320   \n",
       "60830  22552   3361     10   234       1       5   22543   1   12    69387   \n",
       "60831  22858   3407      4    94       1       5   22852   3   12    75661   \n",
       "\n",
       "       ...  나이  거주자 수  move_out  계약구분_해지  아파트 이름_까치아파트  아파트 이름_비둘기아파트  \\\n",
       "0      ...  79      1         1        1             0              0   \n",
       "1      ...  63      2         1        0             0              0   \n",
       "2      ...  75      2         1        0             0              0   \n",
       "3      ...  70      1         1        0             0              0   \n",
       "4      ...  60      3         0        1             0              1   \n",
       "...    ...  ..    ...       ...      ...           ...            ...   \n",
       "60827  ...  49      1         1        0             0              0   \n",
       "60828  ...  60      1         1        0             0              0   \n",
       "60829  ...  51      1         0        1             0              1   \n",
       "60830  ...  46      3         1        0             0              1   \n",
       "60831  ...  57      1         0        1             0              1   \n",
       "\n",
       "       아파트 이름_용지아파트  아파트 이름_지산5단지아파트  성별_여  결혼여부_미혼  \n",
       "0                 1                0     0        1  \n",
       "1                 1                0     0        0  \n",
       "2                 1                0     0        0  \n",
       "3                 0                1     1        1  \n",
       "4                 0                0     1        1  \n",
       "...             ...              ...   ...      ...  \n",
       "60827             1                0     1        1  \n",
       "60828             1                0     0        1  \n",
       "60829             0                0     1        1  \n",
       "60830             0                0     0        0  \n",
       "60831             0                0     0        1  \n",
       "\n",
       "[60832 rows x 26 columns]>"
      ]
     },
     "execution_count": 17,
     "metadata": {},
     "output_type": "execute_result"
    }
   ],
   "source": [
    "train_data.all"
   ]
  },
  {
   "cell_type": "code",
   "execution_count": 18,
   "id": "43f6207e",
   "metadata": {
    "execution": {
     "iopub.execute_input": "2022-10-31T09:49:16.886996Z",
     "iopub.status.busy": "2022-10-31T09:49:16.886244Z",
     "iopub.status.idle": "2022-10-31T09:49:16.903034Z",
     "shell.execute_reply": "2022-10-31T09:49:16.902180Z"
    },
    "papermill": {
     "duration": 0.032059,
     "end_time": "2022-10-31T09:49:16.905368",
     "exception": false,
     "start_time": "2022-10-31T09:49:16.873309",
     "status": "completed"
    },
    "tags": []
   },
   "outputs": [
    {
     "data": {
      "text/plain": [
       "<bound method NDFrame._add_numeric_operations.<locals>.all of           id     순번  재계약횟수  거주개월  아파트 ID  아파트 평점  호실고유번호   층  평형대  계약자고유번호  \\\n",
       "0      77315  11572      5   106       3       8   77315   6   12     2414   \n",
       "1       9515   1387      8   186       1       5    6460   1   12    61360   \n",
       "2       1668    231     10   222       4      10    7227   4   15    14166   \n",
       "3      57273   8567      7   156       2       7   57271  13   12    42576   \n",
       "4      19049   2817      3    79       1       5   19042   3   12    81873   \n",
       "...      ...    ...    ...   ...     ...     ...     ...  ..  ...      ...   \n",
       "26067  81241  12110      7   162       3       8   81236  11   12    10828   \n",
       "26068  83076  12351      8   192       3       8   83071   6   19     9664   \n",
       "26069  25820   3846     10   234       1       5   25810  14   12    69592   \n",
       "26070  36133   5417     10   244       1       5   41721  14   19    70613   \n",
       "26071    680     92      9   214       5       7   16356   7   15    16011   \n",
       "\n",
       "       ...  대표나이  나이  거주자 수  계약구분_해지  아파트 이름_까치아파트  아파트 이름_비둘기아파트  \\\n",
       "0      ...    94  82      1        1             0              0   \n",
       "1      ...    62  49      2        0             0              1   \n",
       "2      ...    72  67      1        0             1              0   \n",
       "3      ...    52  41      2        0             0              0   \n",
       "4      ...    89  83      1        0             0              1   \n",
       "...    ...   ...  ..    ...      ...           ...            ...   \n",
       "26067  ...    82  75      1        0             0              0   \n",
       "26068  ...    69  62      2        0             0              0   \n",
       "26069  ...    89  87      1        0             0              1   \n",
       "26070  ...    66  62      3        0             0              1   \n",
       "26071  ...    66  60      1        1             0              0   \n",
       "\n",
       "       아파트 이름_용지아파트  아파트 이름_지산5단지아파트  성별_여  결혼여부_미혼  \n",
       "0                 0                1     1        1  \n",
       "1                 0                0     1        1  \n",
       "2                 0                0     1        1  \n",
       "3                 1                0     1        1  \n",
       "4                 0                0     0        1  \n",
       "...             ...              ...   ...      ...  \n",
       "26067             0                1     1        1  \n",
       "26068             0                1     0        0  \n",
       "26069             0                0     1        1  \n",
       "26070             0                0     0        0  \n",
       "26071             0                0     1        1  \n",
       "\n",
       "[26072 rows x 25 columns]>"
      ]
     },
     "execution_count": 18,
     "metadata": {},
     "output_type": "execute_result"
    }
   ],
   "source": [
    "test_data.all"
   ]
  },
  {
   "cell_type": "code",
   "execution_count": 19,
   "id": "1be09e2c",
   "metadata": {
    "execution": {
     "iopub.execute_input": "2022-10-31T09:49:16.931233Z",
     "iopub.status.busy": "2022-10-31T09:49:16.930823Z",
     "iopub.status.idle": "2022-10-31T09:49:16.948057Z",
     "shell.execute_reply": "2022-10-31T09:49:16.946882Z"
    },
    "papermill": {
     "duration": 0.032971,
     "end_time": "2022-10-31T09:49:16.950727",
     "exception": false,
     "start_time": "2022-10-31T09:49:16.917756",
     "status": "completed"
    },
    "tags": []
   },
   "outputs": [
    {
     "name": "stdout",
     "output_type": "stream",
     "text": [
      "<class 'pandas.core.frame.DataFrame'>\n",
      "RangeIndex: 60832 entries, 0 to 60831\n",
      "Data columns (total 26 columns):\n",
      " #   Column           Non-Null Count  Dtype\n",
      "---  ------           --------------  -----\n",
      " 0   id               60832 non-null  int64\n",
      " 1   순번               60832 non-null  int64\n",
      " 2   재계약횟수            60832 non-null  int64\n",
      " 3   거주개월             60832 non-null  int64\n",
      " 4   아파트 ID           60832 non-null  int64\n",
      " 5   아파트 평점           60832 non-null  int64\n",
      " 6   호실고유번호           60832 non-null  int64\n",
      " 7   층                60832 non-null  int64\n",
      " 8   평형대              60832 non-null  int64\n",
      " 9   계약자고유번호          60832 non-null  int64\n",
      " 10  계약서고유번호          60832 non-null  int64\n",
      " 11  입주연도             60832 non-null  int64\n",
      " 12  거주연도             60832 non-null  int64\n",
      " 13  월세(원)            60832 non-null  int64\n",
      " 14  보증금(원)           60832 non-null  int64\n",
      " 15  대표나이             60832 non-null  int64\n",
      " 16  나이               60832 non-null  int64\n",
      " 17  거주자 수            60832 non-null  int64\n",
      " 18  move_out         60832 non-null  int64\n",
      " 19  계약구분_해지          60832 non-null  uint8\n",
      " 20  아파트 이름_까치아파트     60832 non-null  uint8\n",
      " 21  아파트 이름_비둘기아파트    60832 non-null  uint8\n",
      " 22  아파트 이름_용지아파트     60832 non-null  uint8\n",
      " 23  아파트 이름_지산5단지아파트  60832 non-null  uint8\n",
      " 24  성별_여             60832 non-null  uint8\n",
      " 25  결혼여부_미혼          60832 non-null  uint8\n",
      "dtypes: int64(19), uint8(7)\n",
      "memory usage: 9.2 MB\n"
     ]
    }
   ],
   "source": [
    "#unit8 : 부호 없는 8비트 정수형\n",
    "train_data.info()"
   ]
  },
  {
   "cell_type": "code",
   "execution_count": 20,
   "id": "b5fa1b2e",
   "metadata": {
    "execution": {
     "iopub.execute_input": "2022-10-31T09:49:16.976890Z",
     "iopub.status.busy": "2022-10-31T09:49:16.976240Z",
     "iopub.status.idle": "2022-10-31T09:49:16.991101Z",
     "shell.execute_reply": "2022-10-31T09:49:16.989896Z"
    },
    "papermill": {
     "duration": 0.031276,
     "end_time": "2022-10-31T09:49:16.994137",
     "exception": false,
     "start_time": "2022-10-31T09:49:16.962861",
     "status": "completed"
    },
    "tags": []
   },
   "outputs": [
    {
     "name": "stdout",
     "output_type": "stream",
     "text": [
      "<class 'pandas.core.frame.DataFrame'>\n",
      "RangeIndex: 26072 entries, 0 to 26071\n",
      "Data columns (total 25 columns):\n",
      " #   Column           Non-Null Count  Dtype\n",
      "---  ------           --------------  -----\n",
      " 0   id               26072 non-null  int64\n",
      " 1   순번               26072 non-null  int64\n",
      " 2   재계약횟수            26072 non-null  int64\n",
      " 3   거주개월             26072 non-null  int64\n",
      " 4   아파트 ID           26072 non-null  int64\n",
      " 5   아파트 평점           26072 non-null  int64\n",
      " 6   호실고유번호           26072 non-null  int64\n",
      " 7   층                26072 non-null  int64\n",
      " 8   평형대              26072 non-null  int64\n",
      " 9   계약자고유번호          26072 non-null  int64\n",
      " 10  계약서고유번호          26072 non-null  int64\n",
      " 11  입주연도             26072 non-null  int64\n",
      " 12  거주연도             26072 non-null  int64\n",
      " 13  월세(원)            26072 non-null  int64\n",
      " 14  보증금(원)           26072 non-null  int64\n",
      " 15  대표나이             26072 non-null  int64\n",
      " 16  나이               26072 non-null  int64\n",
      " 17  거주자 수            26072 non-null  int64\n",
      " 18  계약구분_해지          26072 non-null  uint8\n",
      " 19  아파트 이름_까치아파트     26072 non-null  uint8\n",
      " 20  아파트 이름_비둘기아파트    26072 non-null  uint8\n",
      " 21  아파트 이름_용지아파트     26072 non-null  uint8\n",
      " 22  아파트 이름_지산5단지아파트  26072 non-null  uint8\n",
      " 23  성별_여             26072 non-null  uint8\n",
      " 24  결혼여부_미혼          26072 non-null  uint8\n",
      "dtypes: int64(18), uint8(7)\n",
      "memory usage: 3.8 MB\n"
     ]
    }
   ],
   "source": [
    "test_data.info()"
   ]
  },
  {
   "cell_type": "code",
   "execution_count": 21,
   "id": "a9a56238",
   "metadata": {
    "execution": {
     "iopub.execute_input": "2022-10-31T09:49:17.020688Z",
     "iopub.status.busy": "2022-10-31T09:49:17.020267Z",
     "iopub.status.idle": "2022-10-31T09:49:20.851591Z",
     "shell.execute_reply": "2022-10-31T09:49:20.850350Z"
    },
    "papermill": {
     "duration": 3.849553,
     "end_time": "2022-10-31T09:49:20.856221",
     "exception": false,
     "start_time": "2022-10-31T09:49:17.006668",
     "status": "completed"
    },
    "tags": []
   },
   "outputs": [
    {
     "data": {
      "text/plain": [
       "<AxesSubplot:>"
      ]
     },
     "execution_count": 21,
     "metadata": {},
     "output_type": "execute_result"
    },
    {
     "data": {
      "image/png": "[encoded data removed]",
      "text/plain": [
       "<Figure size 864x864 with 2 Axes>"
      ]
     },
     "metadata": {
      "needs_background": "light"
     },
     "output_type": "display_data"
    }
   ],
   "source": [
    "#상관관계를 확인할 수 있는 히트맵! 해석은 스스로하시도록 따로 추가하지 않겠습니다.\n",
    "\n",
    "#한글이 깨지는 경우 -> 설치된 한글 폰트를 지정해주면 됩니다.\n",
    "plt.rcParams['font.family'] = 'Malgun Gothic' # For Windows\n",
    "plt.figure(figsize=(12,12))\n",
    "sns.heatmap(train_data.corr(), linewidths=0.1, vmax=0.5, cmap=plt.cm.gist_heat,\n",
    "            linecolor='white', annot=True)"
   ]
  },
  {
   "cell_type": "markdown",
   "id": "c9793c4e",
   "metadata": {
    "papermill": {
     "duration": 0.015793,
     "end_time": "2022-10-31T09:49:20.889459",
     "exception": false,
     "start_time": "2022-10-31T09:49:20.873666",
     "status": "completed"
    },
    "tags": []
   },
   "source": [
    "### 검증 데이터로 분리\n",
    "- 베이스 코드에는 모델의 성능을 비교해보기 위해  train 데이터에서 일부를 validation 데이터로 나눠서 진행하겠습니다.(의무사항 아님)"
   ]
  },
  {
   "cell_type": "code",
   "execution_count": 22,
   "id": "4a8d8a61",
   "metadata": {
    "execution": {
     "iopub.execute_input": "2022-10-31T09:49:20.924056Z",
     "iopub.status.busy": "2022-10-31T09:49:20.923259Z",
     "iopub.status.idle": "2022-10-31T09:49:21.258641Z",
     "shell.execute_reply": "2022-10-31T09:49:21.257696Z"
    },
    "papermill": {
     "duration": 0.355277,
     "end_time": "2022-10-31T09:49:21.261076",
     "exception": false,
     "start_time": "2022-10-31T09:49:20.905799",
     "status": "completed"
    },
    "tags": []
   },
   "outputs": [],
   "source": [
    "from sklearn.model_selection import train_test_split\n",
    "\n",
    "train_data, val_data = train_test_split(train_data, test_size = 0.2, random_state=2022, shuffle=True)"
   ]
  },
  {
   "cell_type": "code",
   "execution_count": 23,
   "id": "6647a942",
   "metadata": {
    "execution": {
     "iopub.execute_input": "2022-10-31T09:49:21.295364Z",
     "iopub.status.busy": "2022-10-31T09:49:21.294504Z",
     "iopub.status.idle": "2022-10-31T09:49:21.300502Z",
     "shell.execute_reply": "2022-10-31T09:49:21.299432Z"
    },
    "papermill": {
     "duration": 0.026047,
     "end_time": "2022-10-31T09:49:21.303173",
     "exception": false,
     "start_time": "2022-10-31T09:49:21.277126",
     "status": "completed"
    },
    "tags": []
   },
   "outputs": [
    {
     "name": "stdout",
     "output_type": "stream",
     "text": [
      "(48665, 26)\n",
      "(12167, 26)\n"
     ]
    }
   ],
   "source": [
    "print(train_data.shape)\n",
    "print(val_data.shape)"
   ]
  },
  {
   "cell_type": "code",
   "execution_count": 24,
   "id": "27047b6e",
   "metadata": {
    "execution": {
     "iopub.execute_input": "2022-10-31T09:49:21.337294Z",
     "iopub.status.busy": "2022-10-31T09:49:21.336898Z",
     "iopub.status.idle": "2022-10-31T09:49:21.352650Z",
     "shell.execute_reply": "2022-10-31T09:49:21.350855Z"
    },
    "papermill": {
     "duration": 0.03539,
     "end_time": "2022-10-31T09:49:21.354825",
     "exception": false,
     "start_time": "2022-10-31T09:49:21.319435",
     "status": "completed"
    },
    "tags": []
   },
   "outputs": [
    {
     "name": "stdout",
     "output_type": "stream",
     "text": [
      "X_train의 shape:  (48665, 25)\n",
      "X_val의 shape:  (12167, 25)\n",
      "X_test의 shape:  (26072, 25)\n",
      "\t\n",
      "y_train의 shape:  (48665,)\n",
      "y_val의 shape:  (12167,)\n"
     ]
    }
   ],
   "source": [
    "X_train = train_data.drop(['move_out'], axis = 1)\n",
    "X_val = val_data.drop(['move_out'], axis = 1)\n",
    "X_test = test_data\n",
    "\n",
    "y_train = train_data['move_out']\n",
    "y_val = val_data['move_out']\n",
    "\n",
    "\n",
    "print(\"X_train의 shape: \", X_train.shape)\n",
    "print(\"X_val의 shape: \", X_val.shape)\n",
    "print(\"X_test의 shape: \", X_test.shape)\n",
    "print(\"\\t\")\n",
    "print(\"y_train의 shape: \", y_train.shape)\n",
    "print(\"y_val의 shape: \", y_val.shape)"
   ]
  },
  {
   "cell_type": "code",
   "execution_count": 25,
   "id": "9aa6f85a",
   "metadata": {
    "execution": {
     "iopub.execute_input": "2022-10-31T09:49:21.389744Z",
     "iopub.status.busy": "2022-10-31T09:49:21.389381Z",
     "iopub.status.idle": "2022-10-31T09:49:21.429878Z",
     "shell.execute_reply": "2022-10-31T09:49:21.428653Z"
    },
    "papermill": {
     "duration": 0.061546,
     "end_time": "2022-10-31T09:49:21.432928",
     "exception": false,
     "start_time": "2022-10-31T09:49:21.371382",
     "status": "completed"
    },
    "tags": []
   },
   "outputs": [
    {
     "name": "stdout",
     "output_type": "stream",
     "text": [
      "          id     순번  재계약횟수  거주개월  아파트 ID  아파트 평점  호실고유번호   층  평형대  계약자고유번호  \\\n",
      "56363  28645   4280     10   234       1       5   28639  10   12    54657   \n",
      "15947  37104   5572      9   215       1       5   43454   4   12    66621   \n",
      "58296  83814  12456     10   222       3       8   83809  10   15     7773   \n",
      "45492  23327   3479      7   171       1       5   23320   5   12    74758   \n",
      "21027  71005  10534      4    84       2       7   70998  13   12    47162   \n",
      "...      ...    ...    ...   ...     ...     ...     ...  ..  ...      ...   \n",
      "46769  51975   7822      3    64       2       7   51976  15   12    19065   \n",
      "37488  42753   6437      9   215       2       7   36826  15   19    30294   \n",
      "16557  76600  11466      9   207       3       8   76589   3   12     8983   \n",
      "1244   57507   8595      9   203       2       7   57496  15   12    38381   \n",
      "21373  19180   2839      2    55       1       5   19172   3   12    83874   \n",
      "\n",
      "       ...  대표나이  나이  거주자 수  계약구분_해지  아파트 이름_까치아파트  아파트 이름_비둘기아파트  \\\n",
      "56363  ...    44  38      2        0             0              1   \n",
      "15947  ...    77  75      1        0             0              1   \n",
      "58296  ...    70  63      2        0             0              0   \n",
      "45492  ...    48  43      2        0             0              1   \n",
      "21027  ...    67  62      1        0             0              0   \n",
      "...    ...   ...  ..    ...      ...           ...            ...   \n",
      "46769  ...    80  67      3        1             0              0   \n",
      "37488  ...    84  77      1        1             0              0   \n",
      "16557  ...    53  52      1        0             0              0   \n",
      "1244   ...    48  47      3        0             0              0   \n",
      "21373  ...    98  93      2        0             0              1   \n",
      "\n",
      "       아파트 이름_용지아파트  아파트 이름_지산5단지아파트  성별_여  결혼여부_미혼  \n",
      "56363             0                0     0        0  \n",
      "15947             0                0     0        1  \n",
      "58296             0                1     1        1  \n",
      "45492             0                0     1        1  \n",
      "21027             1                0     0        1  \n",
      "...             ...              ...   ...      ...  \n",
      "46769             1                0     0        1  \n",
      "37488             1                0     1        1  \n",
      "16557             0                1     1        1  \n",
      "1244              1                0     1        0  \n",
      "21373             0                0     1        1  \n",
      "\n",
      "[48665 rows x 25 columns]\n",
      "          id     순번  재계약횟수  거주개월  아파트 ID  아파트 평점  호실고유번호   층  평형대  계약자고유번호  \\\n",
      "19816  78827  11780      6   180       3       8   78828  14   12     6698   \n",
      "35357  49046   7375     10   222       2       7   49044  11   12    27952   \n",
      "28969  51851   7804     10   222       2       7   51842  14   12    26630   \n",
      "26485  52918   7954      7   188       2       7   52914   8   12    19066   \n",
      "10396    474     65      9   209       5       7   15779   5   15    15985   \n",
      "...      ...    ...    ...   ...     ...     ...     ...  ..  ...      ...   \n",
      "53887  24801   3708      5   109       1       5   24795  10   12    80034   \n",
      "17632  25710   3831      7   162       1       5   25704  14   12    73293   \n",
      "12448  62010   9289     10   222       2       7   62005  15   12    34723   \n",
      "52272  32271   4818     10   234       1       5   34533  10   12    49069   \n",
      "32179   9964   1453      9   222       1       5    7161   3   12    68388   \n",
      "\n",
      "       ...  대표나이  나이  거주자 수  계약구분_해지  아파트 이름_까치아파트  아파트 이름_비둘기아파트  \\\n",
      "19816  ...    90  77      1        1             0              0   \n",
      "35357  ...    73  63      1        0             0              0   \n",
      "28969  ...    74  71      1        0             0              0   \n",
      "26485  ...    55  47      2        1             0              0   \n",
      "10396  ...    80  71      3        1             0              0   \n",
      "...    ...   ...  ..    ...      ...           ...            ...   \n",
      "53887  ...    55  49      1        0             0              1   \n",
      "17632  ...    63  57      2        0             0              1   \n",
      "12448  ...    42  35      1        0             0              0   \n",
      "52272  ...    66  59      1        0             0              1   \n",
      "32179  ...    71  63      1        1             0              1   \n",
      "\n",
      "       아파트 이름_용지아파트  아파트 이름_지산5단지아파트  성별_여  결혼여부_미혼  \n",
      "19816             0                1     1        1  \n",
      "35357             1                0     1        1  \n",
      "28969             1                0     1        1  \n",
      "26485             1                0     0        1  \n",
      "10396             0                0     1        1  \n",
      "...             ...              ...   ...      ...  \n",
      "53887             0                0     0        1  \n",
      "17632             0                0     1        1  \n",
      "12448             1                0     0        1  \n",
      "52272             0                0     1        1  \n",
      "32179             0                0     1        1  \n",
      "\n",
      "[12167 rows x 25 columns]\n",
      "          id     순번  재계약횟수  거주개월  아파트 ID  아파트 평점  호실고유번호   층  평형대  계약자고유번호  \\\n",
      "0      77315  11572      5   106       3       8   77315   6   12     2414   \n",
      "1       9515   1387      8   186       1       5    6460   1   12    61360   \n",
      "2       1668    231     10   222       4      10    7227   4   15    14166   \n",
      "3      57273   8567      7   156       2       7   57271  13   12    42576   \n",
      "4      19049   2817      3    79       1       5   19042   3   12    81873   \n",
      "...      ...    ...    ...   ...     ...     ...     ...  ..  ...      ...   \n",
      "26067  81241  12110      7   162       3       8   81236  11   12    10828   \n",
      "26068  83076  12351      8   192       3       8   83071   6   19     9664   \n",
      "26069  25820   3846     10   234       1       5   25810  14   12    69592   \n",
      "26070  36133   5417     10   244       1       5   41721  14   19    70613   \n",
      "26071    680     92      9   214       5       7   16356   7   15    16011   \n",
      "\n",
      "       ...  대표나이  나이  거주자 수  계약구분_해지  아파트 이름_까치아파트  아파트 이름_비둘기아파트  \\\n",
      "0      ...    94  82      1        1             0              0   \n",
      "1      ...    62  49      2        0             0              1   \n",
      "2      ...    72  67      1        0             1              0   \n",
      "3      ...    52  41      2        0             0              0   \n",
      "4      ...    89  83      1        0             0              1   \n",
      "...    ...   ...  ..    ...      ...           ...            ...   \n",
      "26067  ...    82  75      1        0             0              0   \n",
      "26068  ...    69  62      2        0             0              0   \n",
      "26069  ...    89  87      1        0             0              1   \n",
      "26070  ...    66  62      3        0             0              1   \n",
      "26071  ...    66  60      1        1             0              0   \n",
      "\n",
      "       아파트 이름_용지아파트  아파트 이름_지산5단지아파트  성별_여  결혼여부_미혼  \n",
      "0                 0                1     1        1  \n",
      "1                 0                0     1        1  \n",
      "2                 0                0     1        1  \n",
      "3                 1                0     1        1  \n",
      "4                 0                0     0        1  \n",
      "...             ...              ...   ...      ...  \n",
      "26067             0                1     1        1  \n",
      "26068             0                1     0        0  \n",
      "26069             0                0     1        1  \n",
      "26070             0                0     0        0  \n",
      "26071             0                0     1        1  \n",
      "\n",
      "[26072 rows x 25 columns]\n",
      "56363    1\n",
      "15947    1\n",
      "58296    1\n",
      "45492    1\n",
      "21027    1\n",
      "        ..\n",
      "46769    0\n",
      "37488    1\n",
      "16557    1\n",
      "1244     1\n",
      "21373    1\n",
      "Name: move_out, Length: 48665, dtype: int64\n",
      "19816    1\n",
      "35357    1\n",
      "28969    1\n",
      "26485    1\n",
      "10396    1\n",
      "        ..\n",
      "53887    1\n",
      "17632    1\n",
      "12448    1\n",
      "52272    1\n",
      "32179    1\n",
      "Name: move_out, Length: 12167, dtype: int64\n"
     ]
    }
   ],
   "source": [
    "print(X_train)\n",
    "print(X_val)\n",
    "print(X_test)\n",
    "print(y_train)\n",
    "print(y_val)"
   ]
  },
  {
   "cell_type": "markdown",
   "id": "196ae0f0",
   "metadata": {
    "papermill": {
     "duration": 0.016021,
     "end_time": "2022-10-31T09:49:21.465616",
     "exception": false,
     "start_time": "2022-10-31T09:49:21.449595",
     "status": "completed"
    },
    "tags": []
   },
   "source": [
    "### 모델 학습\n",
    "- 베이스라인 모델은 k-NN 입니다.\n",
    "- 베이스라인 모델과 다른 모델 또는 파라미터 조정을 하여 모델을 학습하시기 바랍니다.   \n",
    "\n",
    "\n",
    "**(동일한 코드 사용 금지 = 꼭, 본인이 파라미터를 조정하면서 모델의 성능을 높여보려고 노력할 것을 의미함)**"
   ]
  },
  {
   "cell_type": "code",
   "execution_count": 26,
   "id": "1ec4365b",
   "metadata": {
    "execution": {
     "iopub.execute_input": "2022-10-31T09:49:21.500755Z",
     "iopub.status.busy": "2022-10-31T09:49:21.499968Z",
     "iopub.status.idle": "2022-10-31T09:49:21.641006Z",
     "shell.execute_reply": "2022-10-31T09:49:21.639809Z"
    },
    "papermill": {
     "duration": 0.161462,
     "end_time": "2022-10-31T09:49:21.643453",
     "exception": false,
     "start_time": "2022-10-31T09:49:21.481991",
     "status": "completed"
    },
    "tags": []
   },
   "outputs": [
    {
     "data": {
      "text/plain": [
       "KNeighborsClassifier(n_neighbors=3, weights='distance')"
      ]
     },
     "execution_count": 26,
     "metadata": {},
     "output_type": "execute_result"
    }
   ],
   "source": [
    "from sklearn.neighbors import KNeighborsClassifier\n",
    "\n",
    "knn_clf = KNeighborsClassifier(weights='distance', n_neighbors=3)\n",
    "knn_clf.fit(X_train, y_train)"
   ]
  },
  {
   "cell_type": "markdown",
   "id": "bc4e73a0",
   "metadata": {
    "papermill": {
     "duration": 0.016484,
     "end_time": "2022-10-31T09:49:21.676755",
     "exception": false,
     "start_time": "2022-10-31T09:49:21.660271",
     "status": "completed"
    },
    "tags": []
   },
   "source": [
    "### 모델 성능 평가\n",
    "- 이번 기계학습 경진대회 평가방식은 \"AUC(Area Under the ROC Curve)\" 입니다.\n",
    "- AUC 값의 범위는 0~1이며 값이 클수록 예측의 정확도가 높다고 할 수 있습니다.\n",
    "- 불균형한 데이터셋에서는 정확도보다 AUC가 훨씬 좋은 지표입니다."
   ]
  },
  {
   "cell_type": "code",
   "execution_count": 27,
   "id": "2cc0ee95",
   "metadata": {
    "execution": {
     "iopub.execute_input": "2022-10-31T09:49:21.712673Z",
     "iopub.status.busy": "2022-10-31T09:49:21.712262Z",
     "iopub.status.idle": "2022-10-31T09:50:02.738097Z",
     "shell.execute_reply": "2022-10-31T09:50:02.736209Z"
    },
    "papermill": {
     "duration": 41.047815,
     "end_time": "2022-10-31T09:50:02.741095",
     "exception": false,
     "start_time": "2022-10-31T09:49:21.693280",
     "status": "completed"
    },
    "tags": []
   },
   "outputs": [
    {
     "name": "stdout",
     "output_type": "stream",
     "text": [
      "Train AUC = 1.0000\n",
      "Val AUC = 0.5148\n"
     ]
    }
   ],
   "source": [
    "from sklearn.metrics import roc_auc_score\n",
    "\n",
    "print('Train AUC = %.4f' % roc_auc_score(y_train, knn_clf.predict_proba(X_train)[:,1]))\n",
    "print('Val AUC = %.4f' % roc_auc_score(y_val, knn_clf.predict_proba(X_val)[:,1]))"
   ]
  },
  {
   "cell_type": "markdown",
   "id": "fcab7f49",
   "metadata": {
    "papermill": {
     "duration": 0.016876,
     "end_time": "2022-10-31T09:50:02.775050",
     "exception": false,
     "start_time": "2022-10-31T09:50:02.758174",
     "status": "completed"
    },
    "tags": []
   },
   "source": [
    "- **다른 평가지표를 사용하여, 모델의 성능을 확인해볼 수 있습니다.**"
   ]
  },
  {
   "cell_type": "code",
   "execution_count": 28,
   "id": "bd45d96a",
   "metadata": {
    "execution": {
     "iopub.execute_input": "2022-10-31T09:50:02.811821Z",
     "iopub.status.busy": "2022-10-31T09:50:02.810705Z",
     "iopub.status.idle": "2022-10-31T09:50:11.442076Z",
     "shell.execute_reply": "2022-10-31T09:50:11.440161Z"
    },
    "papermill": {
     "duration": 8.652972,
     "end_time": "2022-10-31T09:50:11.445261",
     "exception": false,
     "start_time": "2022-10-31T09:50:02.792289",
     "status": "completed"
    },
    "tags": []
   },
   "outputs": [
    {
     "name": "stdout",
     "output_type": "stream",
     "text": [
      "[[   11   588]\n",
      " [  280 11288]]\n",
      "              precision    recall  f1-score   support\n",
      "\n",
      "           0       0.04      0.02      0.02       599\n",
      "           1       0.95      0.98      0.96     11568\n",
      "\n",
      "    accuracy                           0.93     12167\n",
      "   macro avg       0.49      0.50      0.49     12167\n",
      "weighted avg       0.91      0.93      0.92     12167\n",
      "\n"
     ]
    }
   ],
   "source": [
    "#Confustion Matrix를 보면 아시겠지만, 이번 Task의 핵심은 불균형 데이터셋이며, 이를 어떻게 성능을 높일지? 입니다.\n",
    "\n",
    "from sklearn.metrics import confusion_matrix, classification_report\n",
    "import mglearn\n",
    "import matplotlib.pyplot as plt\n",
    "\n",
    "y_pred = knn_clf.predict(X_val)\n",
    "\n",
    "confusion = confusion_matrix(y_val, y_pred)\n",
    "\n",
    "print(confusion_matrix(y_val, y_pred))\n",
    "print(classification_report(y_val, y_pred))"
   ]
  },
  {
   "cell_type": "markdown",
   "id": "4eb27a5f",
   "metadata": {
    "papermill": {
     "duration": 0.017532,
     "end_time": "2022-10-31T09:50:11.480948",
     "exception": false,
     "start_time": "2022-10-31T09:50:11.463416",
     "status": "completed"
    },
    "tags": []
   },
   "source": [
    "### 캐글 submission 방법   \n",
    "\n",
    "- 제공해드린 Test 데이터에 대한 submission을 제출해야합니다.\n",
    "- Test 데이터를 보시면, id 컬럼이 있는 것을 확인할 수 있습니다.\n",
    "- 각 id에 해당하는 move_out(퇴거여부)을 예측하고 결과로 제출해주시면 됩니다."
   ]
  },
  {
   "cell_type": "code",
   "execution_count": 29,
   "id": "e240d5ab",
   "metadata": {
    "execution": {
     "iopub.execute_input": "2022-10-31T09:50:11.517378Z",
     "iopub.status.busy": "2022-10-31T09:50:11.516973Z",
     "iopub.status.idle": "2022-10-31T09:50:29.183674Z",
     "shell.execute_reply": "2022-10-31T09:50:29.182507Z"
    },
    "papermill": {
     "duration": 17.688374,
     "end_time": "2022-10-31T09:50:29.186670",
     "exception": false,
     "start_time": "2022-10-31T09:50:11.498296",
     "status": "completed"
    },
    "tags": []
   },
   "outputs": [],
   "source": [
    "test_predicted = knn_clf.predict(X_test)"
   ]
  },
  {
   "cell_type": "code",
   "execution_count": 30,
   "id": "bcc25885",
   "metadata": {
    "execution": {
     "iopub.execute_input": "2022-10-31T09:50:29.222988Z",
     "iopub.status.busy": "2022-10-31T09:50:29.222572Z",
     "iopub.status.idle": "2022-10-31T09:50:29.230184Z",
     "shell.execute_reply": "2022-10-31T09:50:29.228482Z"
    },
    "papermill": {
     "duration": 0.028997,
     "end_time": "2022-10-31T09:50:29.232775",
     "exception": false,
     "start_time": "2022-10-31T09:50:29.203778",
     "status": "completed"
    },
    "tags": []
   },
   "outputs": [],
   "source": [
    "sample_sub = pd.DataFrame({'id': X_test['id'], 'move_out': test_predicted})"
   ]
  },
  {
   "cell_type": "code",
   "execution_count": 31,
   "id": "fd8b6606",
   "metadata": {
    "execution": {
     "iopub.execute_input": "2022-10-31T09:50:29.269746Z",
     "iopub.status.busy": "2022-10-31T09:50:29.268738Z",
     "iopub.status.idle": "2022-10-31T09:50:29.283121Z",
     "shell.execute_reply": "2022-10-31T09:50:29.281812Z"
    },
    "papermill": {
     "duration": 0.035388,
     "end_time": "2022-10-31T09:50:29.285761",
     "exception": false,
     "start_time": "2022-10-31T09:50:29.250373",
     "status": "completed"
    },
    "tags": []
   },
   "outputs": [
    {
     "data": {
      "text/html": [
       "<div>\n",
       "<style scoped>\n",
       "    .dataframe tbody tr th:only-of-type {\n",
       "        vertical-align: middle;\n",
       "    }\n",
       "\n",
       "    .dataframe tbody tr th {\n",
       "        vertical-align: top;\n",
       "    }\n",
       "\n",
       "    .dataframe thead th {\n",
       "        text-align: right;\n",
       "    }\n",
       "</style>\n",
       "<table border=\"1\" class=\"dataframe\">\n",
       "  <thead>\n",
       "    <tr style=\"text-align: right;\">\n",
       "      <th></th>\n",
       "      <th>id</th>\n",
       "      <th>move_out</th>\n",
       "    </tr>\n",
       "  </thead>\n",
       "  <tbody>\n",
       "    <tr>\n",
       "      <th>0</th>\n",
       "      <td>77315</td>\n",
       "      <td>1</td>\n",
       "    </tr>\n",
       "    <tr>\n",
       "      <th>1</th>\n",
       "      <td>9515</td>\n",
       "      <td>1</td>\n",
       "    </tr>\n",
       "    <tr>\n",
       "      <th>2</th>\n",
       "      <td>1668</td>\n",
       "      <td>1</td>\n",
       "    </tr>\n",
       "    <tr>\n",
       "      <th>3</th>\n",
       "      <td>57273</td>\n",
       "      <td>1</td>\n",
       "    </tr>\n",
       "    <tr>\n",
       "      <th>4</th>\n",
       "      <td>19049</td>\n",
       "      <td>1</td>\n",
       "    </tr>\n",
       "    <tr>\n",
       "      <th>...</th>\n",
       "      <td>...</td>\n",
       "      <td>...</td>\n",
       "    </tr>\n",
       "    <tr>\n",
       "      <th>26067</th>\n",
       "      <td>81241</td>\n",
       "      <td>1</td>\n",
       "    </tr>\n",
       "    <tr>\n",
       "      <th>26068</th>\n",
       "      <td>83076</td>\n",
       "      <td>1</td>\n",
       "    </tr>\n",
       "    <tr>\n",
       "      <th>26069</th>\n",
       "      <td>25820</td>\n",
       "      <td>1</td>\n",
       "    </tr>\n",
       "    <tr>\n",
       "      <th>26070</th>\n",
       "      <td>36133</td>\n",
       "      <td>1</td>\n",
       "    </tr>\n",
       "    <tr>\n",
       "      <th>26071</th>\n",
       "      <td>680</td>\n",
       "      <td>1</td>\n",
       "    </tr>\n",
       "  </tbody>\n",
       "</table>\n",
       "<p>26072 rows × 2 columns</p>\n",
       "</div>"
      ],
      "text/plain": [
       "          id  move_out\n",
       "0      77315         1\n",
       "1       9515         1\n",
       "2       1668         1\n",
       "3      57273         1\n",
       "4      19049         1\n",
       "...      ...       ...\n",
       "26067  81241         1\n",
       "26068  83076         1\n",
       "26069  25820         1\n",
       "26070  36133         1\n",
       "26071    680         1\n",
       "\n",
       "[26072 rows x 2 columns]"
      ]
     },
     "execution_count": 31,
     "metadata": {},
     "output_type": "execute_result"
    }
   ],
   "source": [
    "sample_sub"
   ]
  },
  {
   "cell_type": "code",
   "execution_count": 32,
   "id": "7032439f",
   "metadata": {
    "execution": {
     "iopub.execute_input": "2022-10-31T09:50:29.323223Z",
     "iopub.status.busy": "2022-10-31T09:50:29.322843Z",
     "iopub.status.idle": "2022-10-31T09:50:29.357294Z",
     "shell.execute_reply": "2022-10-31T09:50:29.355818Z"
    },
    "papermill": {
     "duration": 0.056609,
     "end_time": "2022-10-31T09:50:29.360089",
     "exception": false,
     "start_time": "2022-10-31T09:50:29.303480",
     "status": "completed"
    },
    "tags": []
   },
   "outputs": [],
   "source": [
    "sample_sub.to_csv(\"baseline_submission.csv\", index=False)"
   ]
  }
 ],
 "metadata": {
  "kernelspec": {
   "display_name": "Python 3",
   "language": "python",
   "name": "python3"
  },
  "language_info": {
   "codemirror_mode": {
    "name": "ipython",
    "version": 3
   },
   "file_extension": ".py",
   "mimetype": "text/x-python",
   "name": "python",
   "nbconvert_exporter": "python",
   "pygments_lexer": "ipython3",
   "version": "3.7.12"
  },
  "papermill": {
   "default_parameters": {},
   "duration": 99.718301,
   "end_time": "2022-10-31T09:50:30.300337",
   "environment_variables": {},
   "exception": null,
   "input_path": "__notebook__.ipynb",
   "output_path": "__notebook__.ipynb",
   "parameters": {},
   "start_time": "2022-10-31T09:48:50.582036",
   "version": "2.3.4"
  }
 },
 "nbformat": 4,
 "nbformat_minor": 5
}

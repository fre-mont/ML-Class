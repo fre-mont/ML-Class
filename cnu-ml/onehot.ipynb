{
 "cells": [
  {
   "cell_type": "code",
   "execution_count": 1,
   "metadata": {},
   "outputs": [],
   "source": [
    "import numpy as np\n",
    "import pandas as pd\n",
    "import matplotlib.pyplot as plt\n",
    "import seaborn as sns \n",
    "from matplotlib import font_manager, rc\n",
    "\n",
    "# 한글깨짐 폰트 설정\n",
    "font_name = font_manager.FontProperties(fname=\"c:/Windows/Fonts/malgun.ttf\").get_name()  \n",
    "rc('font', family=font_name) \n"
   ]
  },
  {
   "cell_type": "code",
   "execution_count": 2,
   "metadata": {},
   "outputs": [],
   "source": [
    "train_data = pd.read_csv(\"train.csv\")\n",
    "test_data = pd.read_csv(\"test.csv\")"
   ]
  },
  {
   "cell_type": "code",
   "execution_count": 3,
   "metadata": {},
   "outputs": [
    {
     "data": {
      "text/plain": [
       "(26072, 23)"
      ]
     },
     "execution_count": 3,
     "metadata": {},
     "output_type": "execute_result"
    }
   ],
   "source": [
    "test_data.shape"
   ]
  },
  {
   "cell_type": "code",
   "execution_count": 4,
   "metadata": {},
   "outputs": [
    {
     "data": {
      "text/html": [
       "<div>\n",
       "<style scoped>\n",
       "    .dataframe tbody tr th:only-of-type {\n",
       "        vertical-align: middle;\n",
       "    }\n",
       "\n",
       "    .dataframe tbody tr th {\n",
       "        vertical-align: top;\n",
       "    }\n",
       "\n",
       "    .dataframe thead th {\n",
       "        text-align: right;\n",
       "    }\n",
       "</style>\n",
       "<table border=\"1\" class=\"dataframe\">\n",
       "  <thead>\n",
       "    <tr style=\"text-align: right;\">\n",
       "      <th></th>\n",
       "      <th>id</th>\n",
       "      <th>순번</th>\n",
       "      <th>계약구분</th>\n",
       "      <th>재계약횟수</th>\n",
       "      <th>거주개월</th>\n",
       "      <th>아파트 이름</th>\n",
       "      <th>아파트 ID</th>\n",
       "      <th>아파트 평점</th>\n",
       "      <th>호실고유번호</th>\n",
       "      <th>층</th>\n",
       "      <th>...</th>\n",
       "      <th>퇴거연도</th>\n",
       "      <th>거주연도</th>\n",
       "      <th>월세(원)</th>\n",
       "      <th>보증금(원)</th>\n",
       "      <th>대표나이</th>\n",
       "      <th>나이</th>\n",
       "      <th>성별</th>\n",
       "      <th>결혼여부</th>\n",
       "      <th>거주자 수</th>\n",
       "      <th>move_out</th>\n",
       "    </tr>\n",
       "  </thead>\n",
       "  <tbody>\n",
       "    <tr>\n",
       "      <th>0</th>\n",
       "      <td>61187</td>\n",
       "      <td>9167</td>\n",
       "      <td>해지</td>\n",
       "      <td>3</td>\n",
       "      <td>75</td>\n",
       "      <td>용지아파트</td>\n",
       "      <td>2</td>\n",
       "      <td>7</td>\n",
       "      <td>61188</td>\n",
       "      <td>9</td>\n",
       "      <td>...</td>\n",
       "      <td>2012.0</td>\n",
       "      <td>2008</td>\n",
       "      <td>40300</td>\n",
       "      <td>1897000</td>\n",
       "      <td>92</td>\n",
       "      <td>79</td>\n",
       "      <td>남</td>\n",
       "      <td>미혼</td>\n",
       "      <td>1</td>\n",
       "      <td>1</td>\n",
       "    </tr>\n",
       "    <tr>\n",
       "      <th>1</th>\n",
       "      <td>70016</td>\n",
       "      <td>10398</td>\n",
       "      <td>유효</td>\n",
       "      <td>10</td>\n",
       "      <td>222</td>\n",
       "      <td>용지아파트</td>\n",
       "      <td>2</td>\n",
       "      <td>7</td>\n",
       "      <td>70016</td>\n",
       "      <td>7</td>\n",
       "      <td>...</td>\n",
       "      <td>NaN</td>\n",
       "      <td>2009</td>\n",
       "      <td>64700</td>\n",
       "      <td>4320000</td>\n",
       "      <td>75</td>\n",
       "      <td>63</td>\n",
       "      <td>남</td>\n",
       "      <td>기혼</td>\n",
       "      <td>2</td>\n",
       "      <td>1</td>\n",
       "    </tr>\n",
       "    <tr>\n",
       "      <th>2</th>\n",
       "      <td>52239</td>\n",
       "      <td>7859</td>\n",
       "      <td>유효</td>\n",
       "      <td>3</td>\n",
       "      <td>80</td>\n",
       "      <td>용지아파트</td>\n",
       "      <td>2</td>\n",
       "      <td>7</td>\n",
       "      <td>52233</td>\n",
       "      <td>2</td>\n",
       "      <td>...</td>\n",
       "      <td>NaN</td>\n",
       "      <td>2015</td>\n",
       "      <td>36700</td>\n",
       "      <td>1954000</td>\n",
       "      <td>81</td>\n",
       "      <td>75</td>\n",
       "      <td>남</td>\n",
       "      <td>기혼</td>\n",
       "      <td>2</td>\n",
       "      <td>1</td>\n",
       "    </tr>\n",
       "    <tr>\n",
       "      <th>3</th>\n",
       "      <td>85470</td>\n",
       "      <td>12689</td>\n",
       "      <td>유효</td>\n",
       "      <td>10</td>\n",
       "      <td>222</td>\n",
       "      <td>지산5단지아파트</td>\n",
       "      <td>3</td>\n",
       "      <td>8</td>\n",
       "      <td>85460</td>\n",
       "      <td>6</td>\n",
       "      <td>...</td>\n",
       "      <td>NaN</td>\n",
       "      <td>2019</td>\n",
       "      <td>66600</td>\n",
       "      <td>3116000</td>\n",
       "      <td>72</td>\n",
       "      <td>70</td>\n",
       "      <td>여</td>\n",
       "      <td>미혼</td>\n",
       "      <td>1</td>\n",
       "      <td>1</td>\n",
       "    </tr>\n",
       "    <tr>\n",
       "      <th>4</th>\n",
       "      <td>7941</td>\n",
       "      <td>1161</td>\n",
       "      <td>해지</td>\n",
       "      <td>7</td>\n",
       "      <td>157</td>\n",
       "      <td>비둘기아파트</td>\n",
       "      <td>1</td>\n",
       "      <td>5</td>\n",
       "      <td>4750</td>\n",
       "      <td>8</td>\n",
       "      <td>...</td>\n",
       "      <td>2015.0</td>\n",
       "      <td>2015</td>\n",
       "      <td>146300</td>\n",
       "      <td>10259000</td>\n",
       "      <td>66</td>\n",
       "      <td>60</td>\n",
       "      <td>여</td>\n",
       "      <td>미혼</td>\n",
       "      <td>3</td>\n",
       "      <td>0</td>\n",
       "    </tr>\n",
       "  </tbody>\n",
       "</table>\n",
       "<p>5 rows × 24 columns</p>\n",
       "</div>"
      ],
      "text/plain": [
       "      id     순번 계약구분  재계약횟수  거주개월    아파트 이름  아파트 ID  아파트 평점  호실고유번호  층  ...  \\\n",
       "0  61187   9167   해지      3    75     용지아파트       2       7   61188  9  ...   \n",
       "1  70016  10398   유효     10   222     용지아파트       2       7   70016  7  ...   \n",
       "2  52239   7859   유효      3    80     용지아파트       2       7   52233  2  ...   \n",
       "3  85470  12689   유효     10   222  지산5단지아파트       3       8   85460  6  ...   \n",
       "4   7941   1161   해지      7   157    비둘기아파트       1       5    4750  8  ...   \n",
       "\n",
       "     퇴거연도  거주연도   월세(원)    보증금(원)  대표나이  나이  성별  결혼여부  거주자 수  move_out  \n",
       "0  2012.0  2008   40300   1897000    92  79   남    미혼      1         1  \n",
       "1     NaN  2009   64700   4320000    75  63   남    기혼      2         1  \n",
       "2     NaN  2015   36700   1954000    81  75   남    기혼      2         1  \n",
       "3     NaN  2019   66600   3116000    72  70   여    미혼      1         1  \n",
       "4  2015.0  2015  146300  10259000    66  60   여    미혼      3         0  \n",
       "\n",
       "[5 rows x 24 columns]"
      ]
     },
     "execution_count": 4,
     "metadata": {},
     "output_type": "execute_result"
    }
   ],
   "source": [
    "train_data.head()"
   ]
  },
  {
   "cell_type": "code",
   "execution_count": 5,
   "metadata": {},
   "outputs": [
    {
     "name": "stdout",
     "output_type": "stream",
     "text": [
      "<class 'pandas.core.frame.DataFrame'>\n",
      "RangeIndex: 60832 entries, 0 to 60831\n",
      "Data columns (total 24 columns):\n",
      " #   Column    Non-Null Count  Dtype  \n",
      "---  ------    --------------  -----  \n",
      " 0   id        60832 non-null  int64  \n",
      " 1   순번        60832 non-null  int64  \n",
      " 2   계약구분      60832 non-null  object \n",
      " 3   재계약횟수     60832 non-null  int64  \n",
      " 4   거주개월      60832 non-null  int64  \n",
      " 5   아파트 이름    60832 non-null  object \n",
      " 6   아파트 ID    60832 non-null  int64  \n",
      " 7   아파트 평점    60832 non-null  int64  \n",
      " 8   호실고유번호    60832 non-null  int64  \n",
      " 9   층         60832 non-null  int64  \n",
      " 10  평형대       60832 non-null  int64  \n",
      " 11  계약자고유번호   60832 non-null  int64  \n",
      " 12  계약서고유번호   60832 non-null  int64  \n",
      " 13  입주연도      60832 non-null  int64  \n",
      " 14  퇴거연도      18033 non-null  float64\n",
      " 15  거주연도      60832 non-null  int64  \n",
      " 16  월세(원)     60832 non-null  int64  \n",
      " 17  보증금(원)    60832 non-null  int64  \n",
      " 18  대표나이      60832 non-null  int64  \n",
      " 19  나이        60832 non-null  int64  \n",
      " 20  성별        60832 non-null  object \n",
      " 21  결혼여부      60832 non-null  object \n",
      " 22  거주자 수     60832 non-null  int64  \n",
      " 23  move_out  60832 non-null  int64  \n",
      "dtypes: float64(1), int64(19), object(4)\n",
      "memory usage: 11.1+ MB\n"
     ]
    }
   ],
   "source": [
    "train_data.info()"
   ]
  },
  {
   "cell_type": "code",
   "execution_count": 6,
   "metadata": {},
   "outputs": [],
   "source": [
    "# 복사본 생성 \n",
    "train = train_data.copy()\n",
    "test = test_data.copy()"
   ]
  },
  {
   "cell_type": "code",
   "execution_count": 7,
   "metadata": {},
   "outputs": [
    {
     "data": {
      "text/plain": [
       "array([[<AxesSubplot:title={'center':'id'}>,\n",
       "        <AxesSubplot:title={'center':'순번'}>,\n",
       "        <AxesSubplot:title={'center':'재계약횟수'}>,\n",
       "        <AxesSubplot:title={'center':'거주개월'}>],\n",
       "       [<AxesSubplot:title={'center':'아파트 ID'}>,\n",
       "        <AxesSubplot:title={'center':'아파트 평점'}>,\n",
       "        <AxesSubplot:title={'center':'호실고유번호'}>,\n",
       "        <AxesSubplot:title={'center':'층'}>],\n",
       "       [<AxesSubplot:title={'center':'평형대'}>,\n",
       "        <AxesSubplot:title={'center':'계약자고유번호'}>,\n",
       "        <AxesSubplot:title={'center':'계약서고유번호'}>,\n",
       "        <AxesSubplot:title={'center':'입주연도'}>],\n",
       "       [<AxesSubplot:title={'center':'퇴거연도'}>,\n",
       "        <AxesSubplot:title={'center':'거주연도'}>,\n",
       "        <AxesSubplot:title={'center':'월세(원)'}>,\n",
       "        <AxesSubplot:title={'center':'보증금(원)'}>],\n",
       "       [<AxesSubplot:title={'center':'대표나이'}>,\n",
       "        <AxesSubplot:title={'center':'나이'}>,\n",
       "        <AxesSubplot:title={'center':'거주자 수'}>,\n",
       "        <AxesSubplot:title={'center':'move_out'}>]], dtype=object)"
      ]
     },
     "execution_count": 7,
     "metadata": {},
     "output_type": "execute_result"
    },
    {
     "data": {
      "image/png": "[encoded data removed]",
      "text/plain": [
       "<Figure size 2000x1500 with 20 Axes>"
      ]
     },
     "metadata": {},
     "output_type": "display_data"
    }
   ],
   "source": [
    "# 수치형 데이터만 출력 \n",
    "train.hist(bins=50, figsize=(20, 15))\n",
    "\n",
    "# target이 불균형 데이터셋 "
   ]
  },
  {
   "cell_type": "code",
   "execution_count": 8,
   "metadata": {},
   "outputs": [],
   "source": [
    "# 불필요한 columns 제거 \n",
    "train = train.drop(['id', '순번', '호실고유번호', '계약자고유번호', '계약서고유번호'], axis=1)\n",
    "test = test.drop(['id', '순번', '호실고유번호', '계약자고유번호', '계약서고유번호'], axis=1)\n"
   ]
  },
  {
   "cell_type": "code",
   "execution_count": 9,
   "metadata": {},
   "outputs": [
    {
     "name": "stdout",
     "output_type": "stream",
     "text": [
      "비둘기아파트      25228\n",
      "용지아파트       23792\n",
      "지산5단지아파트     9591\n",
      "까치아파트        1329\n",
      "강남아파트         892\n",
      "Name: 아파트 이름, dtype: int64\n",
      "\n",
      "1    25228\n",
      "2    23792\n",
      "3     9591\n",
      "4     1329\n",
      "5      892\n",
      "Name: 아파트 ID, dtype: int64\n"
     ]
    }
   ],
   "source": [
    "print(train['아파트 이름'].value_counts())\n",
    "print()\n",
    "print(train['아파트 ID'].value_counts())\n",
    "\n",
    "# 1 : 비둘기 아파트\n",
    "# 2 : 용지아파트\n",
    "# 3 : 지산5단지아파트\n",
    "# 4 : 까치 아파트\n",
    "# 5 : 강남아파트 \n",
    "# 아파트 ID는 아파트이름에 대한 범주를 가짐 \n",
    "train = train.drop(['아파트 ID'], axis=1)\n",
    "test = test.drop(['아파트 ID'], axis=1)\n"
   ]
  },
  {
   "cell_type": "code",
   "execution_count": 10,
   "metadata": {},
   "outputs": [
    {
     "data": {
      "text/plain": [
       "array([[<AxesSubplot:title={'center':'재계약횟수'}>,\n",
       "        <AxesSubplot:title={'center':'거주개월'}>,\n",
       "        <AxesSubplot:title={'center':'아파트 평점'}>,\n",
       "        <AxesSubplot:title={'center':'층'}>],\n",
       "       [<AxesSubplot:title={'center':'평형대'}>,\n",
       "        <AxesSubplot:title={'center':'입주연도'}>,\n",
       "        <AxesSubplot:title={'center':'퇴거연도'}>,\n",
       "        <AxesSubplot:title={'center':'거주연도'}>],\n",
       "       [<AxesSubplot:title={'center':'월세(원)'}>,\n",
       "        <AxesSubplot:title={'center':'보증금(원)'}>,\n",
       "        <AxesSubplot:title={'center':'대표나이'}>,\n",
       "        <AxesSubplot:title={'center':'나이'}>],\n",
       "       [<AxesSubplot:title={'center':'거주자 수'}>,\n",
       "        <AxesSubplot:title={'center':'move_out'}>, <AxesSubplot:>,\n",
       "        <AxesSubplot:>]], dtype=object)"
      ]
     },
     "execution_count": 10,
     "metadata": {},
     "output_type": "execute_result"
    },
    {
     "data": {
      "image/png": "[encoded data removed]",
      "text/plain": [
       "<Figure size 1000x1000 with 16 Axes>"
      ]
     },
     "metadata": {},
     "output_type": "display_data"
    }
   ],
   "source": [
    "train.hist(bins=50, figsize=(10, 10))"
   ]
  },
  {
   "cell_type": "markdown",
   "metadata": {},
   "source": [
    "### 결측치 처리\n"
   ]
  },
  {
   "cell_type": "code",
   "execution_count": 11,
   "metadata": {},
   "outputs": [
    {
     "data": {
      "text/html": [
       "<div>\n",
       "<style scoped>\n",
       "    .dataframe tbody tr th:only-of-type {\n",
       "        vertical-align: middle;\n",
       "    }\n",
       "\n",
       "    .dataframe tbody tr th {\n",
       "        vertical-align: top;\n",
       "    }\n",
       "\n",
       "    .dataframe thead th {\n",
       "        text-align: right;\n",
       "    }\n",
       "</style>\n",
       "<table border=\"1\" class=\"dataframe\">\n",
       "  <thead>\n",
       "    <tr style=\"text-align: right;\">\n",
       "      <th></th>\n",
       "      <th>재계약횟수</th>\n",
       "      <th>거주개월</th>\n",
       "      <th>아파트 평점</th>\n",
       "      <th>층</th>\n",
       "      <th>평형대</th>\n",
       "      <th>입주연도</th>\n",
       "      <th>퇴거연도</th>\n",
       "      <th>거주연도</th>\n",
       "      <th>월세(원)</th>\n",
       "      <th>보증금(원)</th>\n",
       "      <th>대표나이</th>\n",
       "      <th>나이</th>\n",
       "      <th>거주자 수</th>\n",
       "      <th>move_out</th>\n",
       "    </tr>\n",
       "  </thead>\n",
       "  <tbody>\n",
       "    <tr>\n",
       "      <th>count</th>\n",
       "      <td>60832.000000</td>\n",
       "      <td>60832.000000</td>\n",
       "      <td>60832.000000</td>\n",
       "      <td>60832.000000</td>\n",
       "      <td>60832.000000</td>\n",
       "      <td>60832.000000</td>\n",
       "      <td>18033.000000</td>\n",
       "      <td>60832.000000</td>\n",
       "      <td>60832.000000</td>\n",
       "      <td>6.083200e+04</td>\n",
       "      <td>60832.000000</td>\n",
       "      <td>60832.000000</td>\n",
       "      <td>60832.000000</td>\n",
       "      <td>60832.000000</td>\n",
       "    </tr>\n",
       "    <tr>\n",
       "      <th>mean</th>\n",
       "      <td>7.380425</td>\n",
       "      <td>174.313914</td>\n",
       "      <td>6.393773</td>\n",
       "      <td>7.884896</td>\n",
       "      <td>13.289256</td>\n",
       "      <td>2005.245874</td>\n",
       "      <td>2015.985360</td>\n",
       "      <td>2013.989052</td>\n",
       "      <td>57683.088177</td>\n",
       "      <td>3.385542e+06</td>\n",
       "      <td>66.665900</td>\n",
       "      <td>59.654951</td>\n",
       "      <td>1.655428</td>\n",
       "      <td>0.951506</td>\n",
       "    </tr>\n",
       "    <tr>\n",
       "      <th>std</th>\n",
       "      <td>2.761137</td>\n",
       "      <td>64.803830</td>\n",
       "      <td>1.282835</td>\n",
       "      <td>4.270328</td>\n",
       "      <td>2.387789</td>\n",
       "      <td>4.840107</td>\n",
       "      <td>3.144728</td>\n",
       "      <td>3.730135</td>\n",
       "      <td>30533.036487</td>\n",
       "      <td>2.378867e+06</td>\n",
       "      <td>12.941232</td>\n",
       "      <td>13.270605</td>\n",
       "      <td>0.929361</td>\n",
       "      <td>0.214810</td>\n",
       "    </tr>\n",
       "    <tr>\n",
       "      <th>min</th>\n",
       "      <td>1.000000</td>\n",
       "      <td>1.000000</td>\n",
       "      <td>5.000000</td>\n",
       "      <td>1.000000</td>\n",
       "      <td>12.000000</td>\n",
       "      <td>1994.000000</td>\n",
       "      <td>2008.000000</td>\n",
       "      <td>2008.000000</td>\n",
       "      <td>31300.000000</td>\n",
       "      <td>1.520000e+06</td>\n",
       "      <td>21.000000</td>\n",
       "      <td>20.000000</td>\n",
       "      <td>1.000000</td>\n",
       "      <td>0.000000</td>\n",
       "    </tr>\n",
       "    <tr>\n",
       "      <th>25%</th>\n",
       "      <td>5.000000</td>\n",
       "      <td>126.000000</td>\n",
       "      <td>5.000000</td>\n",
       "      <td>4.000000</td>\n",
       "      <td>12.000000</td>\n",
       "      <td>2002.000000</td>\n",
       "      <td>2014.000000</td>\n",
       "      <td>2011.000000</td>\n",
       "      <td>40300.000000</td>\n",
       "      <td>1.954000e+06</td>\n",
       "      <td>59.000000</td>\n",
       "      <td>51.000000</td>\n",
       "      <td>1.000000</td>\n",
       "      <td>1.000000</td>\n",
       "    </tr>\n",
       "    <tr>\n",
       "      <th>50%</th>\n",
       "      <td>8.000000</td>\n",
       "      <td>196.000000</td>\n",
       "      <td>7.000000</td>\n",
       "      <td>8.000000</td>\n",
       "      <td>12.000000</td>\n",
       "      <td>2003.000000</td>\n",
       "      <td>2017.000000</td>\n",
       "      <td>2014.000000</td>\n",
       "      <td>43600.000000</td>\n",
       "      <td>2.144000e+06</td>\n",
       "      <td>66.000000</td>\n",
       "      <td>59.000000</td>\n",
       "      <td>1.000000</td>\n",
       "      <td>1.000000</td>\n",
       "    </tr>\n",
       "    <tr>\n",
       "      <th>75%</th>\n",
       "      <td>10.000000</td>\n",
       "      <td>222.000000</td>\n",
       "      <td>7.000000</td>\n",
       "      <td>12.000000</td>\n",
       "      <td>15.000000</td>\n",
       "      <td>2008.000000</td>\n",
       "      <td>2019.000000</td>\n",
       "      <td>2017.000000</td>\n",
       "      <td>63600.000000</td>\n",
       "      <td>3.824000e+06</td>\n",
       "      <td>76.000000</td>\n",
       "      <td>69.000000</td>\n",
       "      <td>2.000000</td>\n",
       "      <td>1.000000</td>\n",
       "    </tr>\n",
       "    <tr>\n",
       "      <th>max</th>\n",
       "      <td>12.000000</td>\n",
       "      <td>323.000000</td>\n",
       "      <td>10.000000</td>\n",
       "      <td>15.000000</td>\n",
       "      <td>19.000000</td>\n",
       "      <td>2020.000000</td>\n",
       "      <td>2020.000000</td>\n",
       "      <td>2020.000000</td>\n",
       "      <td>311080.000000</td>\n",
       "      <td>1.853640e+07</td>\n",
       "      <td>121.000000</td>\n",
       "      <td>120.000000</td>\n",
       "      <td>10.000000</td>\n",
       "      <td>1.000000</td>\n",
       "    </tr>\n",
       "  </tbody>\n",
       "</table>\n",
       "</div>"
      ],
      "text/plain": [
       "              재계약횟수          거주개월        아파트 평점             층           평형대  \\\n",
       "count  60832.000000  60832.000000  60832.000000  60832.000000  60832.000000   \n",
       "mean       7.380425    174.313914      6.393773      7.884896     13.289256   \n",
       "std        2.761137     64.803830      1.282835      4.270328      2.387789   \n",
       "min        1.000000      1.000000      5.000000      1.000000     12.000000   \n",
       "25%        5.000000    126.000000      5.000000      4.000000     12.000000   \n",
       "50%        8.000000    196.000000      7.000000      8.000000     12.000000   \n",
       "75%       10.000000    222.000000      7.000000     12.000000     15.000000   \n",
       "max       12.000000    323.000000     10.000000     15.000000     19.000000   \n",
       "\n",
       "               입주연도          퇴거연도          거주연도          월세(원)        보증금(원)  \\\n",
       "count  60832.000000  18033.000000  60832.000000   60832.000000  6.083200e+04   \n",
       "mean    2005.245874   2015.985360   2013.989052   57683.088177  3.385542e+06   \n",
       "std        4.840107      3.144728      3.730135   30533.036487  2.378867e+06   \n",
       "min     1994.000000   2008.000000   2008.000000   31300.000000  1.520000e+06   \n",
       "25%     2002.000000   2014.000000   2011.000000   40300.000000  1.954000e+06   \n",
       "50%     2003.000000   2017.000000   2014.000000   43600.000000  2.144000e+06   \n",
       "75%     2008.000000   2019.000000   2017.000000   63600.000000  3.824000e+06   \n",
       "max     2020.000000   2020.000000   2020.000000  311080.000000  1.853640e+07   \n",
       "\n",
       "               대표나이            나이         거주자 수      move_out  \n",
       "count  60832.000000  60832.000000  60832.000000  60832.000000  \n",
       "mean      66.665900     59.654951      1.655428      0.951506  \n",
       "std       12.941232     13.270605      0.929361      0.214810  \n",
       "min       21.000000     20.000000      1.000000      0.000000  \n",
       "25%       59.000000     51.000000      1.000000      1.000000  \n",
       "50%       66.000000     59.000000      1.000000      1.000000  \n",
       "75%       76.000000     69.000000      2.000000      1.000000  \n",
       "max      121.000000    120.000000     10.000000      1.000000  "
      ]
     },
     "execution_count": 11,
     "metadata": {},
     "output_type": "execute_result"
    }
   ],
   "source": [
    "train.describe()"
   ]
  },
  {
   "cell_type": "code",
   "execution_count": 12,
   "metadata": {},
   "outputs": [
    {
     "data": {
      "text/plain": [
       "계약구분            0\n",
       "재계약횟수           0\n",
       "거주개월            0\n",
       "아파트 이름          0\n",
       "아파트 평점          0\n",
       "층               0\n",
       "평형대             0\n",
       "입주연도            0\n",
       "퇴거연도        42799\n",
       "거주연도            0\n",
       "월세(원)           0\n",
       "보증금(원)          0\n",
       "대표나이            0\n",
       "나이              0\n",
       "성별              0\n",
       "결혼여부            0\n",
       "거주자 수           0\n",
       "move_out        0\n",
       "dtype: int64"
      ]
     },
     "execution_count": 12,
     "metadata": {},
     "output_type": "execute_result"
    }
   ],
   "source": [
    "train.isnull().sum()  # 50%이상 결측값 => 제거"
   ]
  },
  {
   "cell_type": "code",
   "execution_count": 13,
   "metadata": {},
   "outputs": [
    {
     "name": "stdout",
     "output_type": "stream",
     "text": [
      "0        2012\n",
      "1        2021\n",
      "2        2020\n",
      "3        2021\n",
      "4        2015\n",
      "         ... \n",
      "60827    2021\n",
      "60828    2021\n",
      "60829    2018\n",
      "60830    2021\n",
      "60831    2015\n",
      "Name: 퇴거연도, Length: 60832, dtype: int32\n",
      "0        2011\n",
      "1        2021\n",
      "2        2021\n",
      "3        2021\n",
      "4        2020\n",
      "         ... \n",
      "26067    2021\n",
      "26068    2021\n",
      "26069    2021\n",
      "26070    2021\n",
      "26071    2020\n",
      "Name: 퇴거연도, Length: 26072, dtype: int32\n"
     ]
    }
   ],
   "source": [
    "train['퇴거연도'] = train['퇴거연도'].fillna(train['입주연도'] + train['거주개월'] / 12).astype(int)\n",
    "print(train['퇴거연도'])\n",
    "\n",
    "test['퇴거연도'] = test['퇴거연도'].fillna(test['입주연도'] + test['거주개월']/12).astype(int)\n",
    "print(test['퇴거연도'])\n"
   ]
  },
  {
   "cell_type": "code",
   "execution_count": 15,
   "metadata": {},
   "outputs": [
    {
     "name": "stdout",
     "output_type": "stream",
     "text": [
      "계약구분        0\n",
      "재계약횟수       0\n",
      "거주개월        0\n",
      "아파트 이름      0\n",
      "아파트 평점      0\n",
      "층           0\n",
      "평형대         0\n",
      "입주연도        0\n",
      "퇴거연도        0\n",
      "거주연도        0\n",
      "월세(원)       0\n",
      "보증금(원)      0\n",
      "대표나이        0\n",
      "나이          0\n",
      "성별          0\n",
      "결혼여부        0\n",
      "거주자 수       0\n",
      "move_out    0\n",
      "dtype: int64\n",
      "----------------------------------------\n",
      "계약구분      0\n",
      "재계약횟수     0\n",
      "거주개월      0\n",
      "아파트 이름    0\n",
      "아파트 평점    0\n",
      "층         0\n",
      "평형대       0\n",
      "입주연도      0\n",
      "퇴거연도      0\n",
      "거주연도      0\n",
      "월세(원)     0\n",
      "보증금(원)    0\n",
      "대표나이      0\n",
      "나이        0\n",
      "성별        0\n",
      "결혼여부      0\n",
      "거주자 수     0\n",
      "dtype: int64\n"
     ]
    }
   ],
   "source": [
    "print(train.isnull().sum())\n",
    "print(\"-\"*40)\n",
    "print(test.isnull().sum())\n",
    "\n",
    "# 결측치 처리 완료 \n"
   ]
  },
  {
   "cell_type": "code",
   "execution_count": 716,
   "metadata": {},
   "outputs": [],
   "source": [
    "# 방법 1. \n",
    "\n",
    "# train = train.drop(['퇴거연도'], axis=1)\n",
    "# test = test.drop(['퇴거연도'], axis=1)"
   ]
  },
  {
   "cell_type": "code",
   "execution_count": 717,
   "metadata": {},
   "outputs": [],
   "source": [
    "# 방법 2. \n",
    "\n",
    "# from sklearn.impute import KNNImputer\n",
    "# 인접 이웃의 가중 또는 가중 평균을 사용해 대치\n",
    "# imputer = KNNImputer(n_neighbors=3)\n",
    "# train_cat = train.select_dtypes(object).columns\n",
    "# train_num = train.drop(train_cat, axis=1)\n",
    "# test_num = test.drop(train_cat, axis=1)\n",
    "\n",
    "# train_impute = imputer.fit_transform(train_num).astype(int)\n",
    "# test_impute = imputer.fit_transform(test_num).astype(int)\n",
    "\n",
    "# train_num = pd.DataFrame(train_impute, index=train_num.index, columns=train_num.columns)\n",
    "# test_num = pd.DataFrame(test_impute, index=test_num.index, columns=test_num.columns)\n",
    "\n",
    "# train = pd.concat([train_num, train.select_dtypes(object)], axis=1)\n",
    "# test = pd.concat([test_num, test.select_dtypes(object)], axis=1)\n"
   ]
  },
  {
   "cell_type": "code",
   "execution_count": 16,
   "metadata": {},
   "outputs": [
    {
     "data": {
      "text/plain": [
       "재계약횟수       0.223704\n",
       "거주개월        0.217926\n",
       "아파트 평점      0.019963\n",
       "층           0.005402\n",
       "평형대         0.023630\n",
       "입주연도        0.004543\n",
       "퇴거연도        0.412519\n",
       "거주연도       -0.015578\n",
       "월세(원)      -0.021827\n",
       "보증금(원)     -0.021084\n",
       "대표나이        0.020510\n",
       "나이          0.015623\n",
       "거주자 수      -0.061058\n",
       "move_out    1.000000\n",
       "Name: move_out, dtype: float64"
      ]
     },
     "execution_count": 16,
     "metadata": {},
     "output_type": "execute_result"
    }
   ],
   "source": [
    "train.corr()['move_out']"
   ]
  },
  {
   "cell_type": "code",
   "execution_count": 19,
   "metadata": {},
   "outputs": [],
   "source": [
    "### 상관계수로 분석했을 때 필요없는 칼럼 삭제 => 0.01 이하 \n",
    "train = train.drop([\"층\", \"입주연도\"], axis=1)\n",
    "test = test.drop([\"층\", \"입주연도\"], axis=1)"
   ]
  },
  {
   "cell_type": "code",
   "execution_count": 20,
   "metadata": {},
   "outputs": [
    {
     "name": "stdout",
     "output_type": "stream",
     "text": [
      "Index(['계약구분', '재계약횟수', '거주개월', '아파트 이름', '아파트 평점', '평형대', '퇴거연도', '거주연도',\n",
      "       '월세(원)', '보증금(원)', '대표나이', '나이', '성별', '결혼여부', '거주자 수', 'move_out'],\n",
      "      dtype='object')\n",
      "Index(['계약구분', '재계약횟수', '거주개월', '아파트 이름', '아파트 평점', '평형대', '퇴거연도', '거주연도',\n",
      "       '월세(원)', '보증금(원)', '대표나이', '나이', '성별', '결혼여부', '거주자 수'],\n",
      "      dtype='object')\n"
     ]
    }
   ],
   "source": [
    "print(train.columns)\n",
    "print(test.columns)"
   ]
  },
  {
   "cell_type": "markdown",
   "metadata": {},
   "source": [
    "### 원핫인코딩\n"
   ]
  },
  {
   "cell_type": "code",
   "execution_count": 21,
   "metadata": {},
   "outputs": [
    {
     "data": {
      "text/html": [
       "<div>\n",
       "<style scoped>\n",
       "    .dataframe tbody tr th:only-of-type {\n",
       "        vertical-align: middle;\n",
       "    }\n",
       "\n",
       "    .dataframe tbody tr th {\n",
       "        vertical-align: top;\n",
       "    }\n",
       "\n",
       "    .dataframe thead th {\n",
       "        text-align: right;\n",
       "    }\n",
       "</style>\n",
       "<table border=\"1\" class=\"dataframe\">\n",
       "  <thead>\n",
       "    <tr style=\"text-align: right;\">\n",
       "      <th></th>\n",
       "      <th>계약구분</th>\n",
       "      <th>아파트 이름</th>\n",
       "      <th>성별</th>\n",
       "      <th>결혼여부</th>\n",
       "    </tr>\n",
       "  </thead>\n",
       "  <tbody>\n",
       "    <tr>\n",
       "      <th>0</th>\n",
       "      <td>해지</td>\n",
       "      <td>용지아파트</td>\n",
       "      <td>남</td>\n",
       "      <td>미혼</td>\n",
       "    </tr>\n",
       "    <tr>\n",
       "      <th>1</th>\n",
       "      <td>유효</td>\n",
       "      <td>용지아파트</td>\n",
       "      <td>남</td>\n",
       "      <td>기혼</td>\n",
       "    </tr>\n",
       "    <tr>\n",
       "      <th>2</th>\n",
       "      <td>유효</td>\n",
       "      <td>용지아파트</td>\n",
       "      <td>남</td>\n",
       "      <td>기혼</td>\n",
       "    </tr>\n",
       "    <tr>\n",
       "      <th>3</th>\n",
       "      <td>유효</td>\n",
       "      <td>지산5단지아파트</td>\n",
       "      <td>여</td>\n",
       "      <td>미혼</td>\n",
       "    </tr>\n",
       "    <tr>\n",
       "      <th>4</th>\n",
       "      <td>해지</td>\n",
       "      <td>비둘기아파트</td>\n",
       "      <td>여</td>\n",
       "      <td>미혼</td>\n",
       "    </tr>\n",
       "    <tr>\n",
       "      <th>...</th>\n",
       "      <td>...</td>\n",
       "      <td>...</td>\n",
       "      <td>...</td>\n",
       "      <td>...</td>\n",
       "    </tr>\n",
       "    <tr>\n",
       "      <th>60827</th>\n",
       "      <td>유효</td>\n",
       "      <td>용지아파트</td>\n",
       "      <td>여</td>\n",
       "      <td>미혼</td>\n",
       "    </tr>\n",
       "    <tr>\n",
       "      <th>60828</th>\n",
       "      <td>유효</td>\n",
       "      <td>용지아파트</td>\n",
       "      <td>남</td>\n",
       "      <td>미혼</td>\n",
       "    </tr>\n",
       "    <tr>\n",
       "      <th>60829</th>\n",
       "      <td>해지</td>\n",
       "      <td>비둘기아파트</td>\n",
       "      <td>여</td>\n",
       "      <td>미혼</td>\n",
       "    </tr>\n",
       "    <tr>\n",
       "      <th>60830</th>\n",
       "      <td>유효</td>\n",
       "      <td>비둘기아파트</td>\n",
       "      <td>남</td>\n",
       "      <td>기혼</td>\n",
       "    </tr>\n",
       "    <tr>\n",
       "      <th>60831</th>\n",
       "      <td>해지</td>\n",
       "      <td>비둘기아파트</td>\n",
       "      <td>남</td>\n",
       "      <td>미혼</td>\n",
       "    </tr>\n",
       "  </tbody>\n",
       "</table>\n",
       "<p>60832 rows × 4 columns</p>\n",
       "</div>"
      ],
      "text/plain": [
       "      계약구분    아파트 이름 성별 결혼여부\n",
       "0       해지     용지아파트  남   미혼\n",
       "1       유효     용지아파트  남   기혼\n",
       "2       유효     용지아파트  남   기혼\n",
       "3       유효  지산5단지아파트  여   미혼\n",
       "4       해지    비둘기아파트  여   미혼\n",
       "...    ...       ... ..  ...\n",
       "60827   유효     용지아파트  여   미혼\n",
       "60828   유효     용지아파트  남   미혼\n",
       "60829   해지    비둘기아파트  여   미혼\n",
       "60830   유효    비둘기아파트  남   기혼\n",
       "60831   해지    비둘기아파트  남   미혼\n",
       "\n",
       "[60832 rows x 4 columns]"
      ]
     },
     "execution_count": 21,
     "metadata": {},
     "output_type": "execute_result"
    }
   ],
   "source": [
    "train.select_dtypes(object) \n",
    "# 모두 2개의 범주를 가짐(0 또는 1)"
   ]
  },
  {
   "cell_type": "code",
   "execution_count": 23,
   "metadata": {},
   "outputs": [
    {
     "name": "stdout",
     "output_type": "stream",
     "text": [
      "train_data 특성:\n",
      " ['계약구분', '재계약횟수', '거주개월', '아파트 이름', '아파트 평점', '평형대', '퇴거연도', '거주연도', '월세(원)', '보증금(원)', '대표나이', '나이', '성별', '결혼여부', '거주자 수', 'move_out']\n",
      "--------------------------------------------------\n",
      "test_data 후의 특성:\n",
      " ['계약구분', '재계약횟수', '거주개월', '아파트 이름', '아파트 평점', '평형대', '퇴거연도', '거주연도', '월세(원)', '보증금(원)', '대표나이', '나이', '성별', '결혼여부', '거주자 수']\n"
     ]
    }
   ],
   "source": [
    "# 3개의 변수는 \"범주형 변수\"로 보이므로, get_dummies() 함수 사용하여 전처리\n",
    "#drop_first=True 옵션으로 가변수의 첫번째 변수를 자동 삭제하여 가변수 함정(dummy trap) 방지\n",
    "train_data = pd.get_dummies(train, drop_first=True)\n",
    "print(\"train_data 특성:\\n\", list(train.columns))\n",
    "\n",
    "print(\"-\"*50)\n",
    "\n",
    "test_data = pd.get_dummies(test, drop_first=True)\n",
    "print(\"test_data 후의 특성:\\n\", list(test.columns))\n"
   ]
  },
  {
   "cell_type": "code",
   "execution_count": 24,
   "metadata": {},
   "outputs": [
    {
     "data": {
      "text/html": [
       "<div>\n",
       "<style scoped>\n",
       "    .dataframe tbody tr th:only-of-type {\n",
       "        vertical-align: middle;\n",
       "    }\n",
       "\n",
       "    .dataframe tbody tr th {\n",
       "        vertical-align: top;\n",
       "    }\n",
       "\n",
       "    .dataframe thead th {\n",
       "        text-align: right;\n",
       "    }\n",
       "</style>\n",
       "<table border=\"1\" class=\"dataframe\">\n",
       "  <thead>\n",
       "    <tr style=\"text-align: right;\">\n",
       "      <th></th>\n",
       "      <th>재계약횟수</th>\n",
       "      <th>거주개월</th>\n",
       "      <th>아파트 평점</th>\n",
       "      <th>평형대</th>\n",
       "      <th>퇴거연도</th>\n",
       "      <th>거주연도</th>\n",
       "      <th>월세(원)</th>\n",
       "      <th>보증금(원)</th>\n",
       "      <th>대표나이</th>\n",
       "      <th>나이</th>\n",
       "      <th>거주자 수</th>\n",
       "      <th>move_out</th>\n",
       "      <th>계약구분_해지</th>\n",
       "      <th>아파트 이름_까치아파트</th>\n",
       "      <th>아파트 이름_비둘기아파트</th>\n",
       "      <th>아파트 이름_용지아파트</th>\n",
       "      <th>아파트 이름_지산5단지아파트</th>\n",
       "      <th>성별_여</th>\n",
       "      <th>결혼여부_미혼</th>\n",
       "    </tr>\n",
       "  </thead>\n",
       "  <tbody>\n",
       "    <tr>\n",
       "      <th>0</th>\n",
       "      <td>3</td>\n",
       "      <td>75</td>\n",
       "      <td>7</td>\n",
       "      <td>12</td>\n",
       "      <td>2012</td>\n",
       "      <td>2008</td>\n",
       "      <td>40300</td>\n",
       "      <td>1897000</td>\n",
       "      <td>92</td>\n",
       "      <td>79</td>\n",
       "      <td>1</td>\n",
       "      <td>1</td>\n",
       "      <td>1</td>\n",
       "      <td>0</td>\n",
       "      <td>0</td>\n",
       "      <td>1</td>\n",
       "      <td>0</td>\n",
       "      <td>0</td>\n",
       "      <td>1</td>\n",
       "    </tr>\n",
       "    <tr>\n",
       "      <th>1</th>\n",
       "      <td>10</td>\n",
       "      <td>222</td>\n",
       "      <td>7</td>\n",
       "      <td>12</td>\n",
       "      <td>2021</td>\n",
       "      <td>2009</td>\n",
       "      <td>64700</td>\n",
       "      <td>4320000</td>\n",
       "      <td>75</td>\n",
       "      <td>63</td>\n",
       "      <td>2</td>\n",
       "      <td>1</td>\n",
       "      <td>0</td>\n",
       "      <td>0</td>\n",
       "      <td>0</td>\n",
       "      <td>1</td>\n",
       "      <td>0</td>\n",
       "      <td>0</td>\n",
       "      <td>0</td>\n",
       "    </tr>\n",
       "    <tr>\n",
       "      <th>2</th>\n",
       "      <td>3</td>\n",
       "      <td>80</td>\n",
       "      <td>7</td>\n",
       "      <td>12</td>\n",
       "      <td>2020</td>\n",
       "      <td>2015</td>\n",
       "      <td>36700</td>\n",
       "      <td>1954000</td>\n",
       "      <td>81</td>\n",
       "      <td>75</td>\n",
       "      <td>2</td>\n",
       "      <td>1</td>\n",
       "      <td>0</td>\n",
       "      <td>0</td>\n",
       "      <td>0</td>\n",
       "      <td>1</td>\n",
       "      <td>0</td>\n",
       "      <td>0</td>\n",
       "      <td>0</td>\n",
       "    </tr>\n",
       "    <tr>\n",
       "      <th>3</th>\n",
       "      <td>10</td>\n",
       "      <td>222</td>\n",
       "      <td>8</td>\n",
       "      <td>19</td>\n",
       "      <td>2021</td>\n",
       "      <td>2019</td>\n",
       "      <td>66600</td>\n",
       "      <td>3116000</td>\n",
       "      <td>72</td>\n",
       "      <td>70</td>\n",
       "      <td>1</td>\n",
       "      <td>1</td>\n",
       "      <td>0</td>\n",
       "      <td>0</td>\n",
       "      <td>0</td>\n",
       "      <td>0</td>\n",
       "      <td>1</td>\n",
       "      <td>1</td>\n",
       "      <td>1</td>\n",
       "    </tr>\n",
       "    <tr>\n",
       "      <th>4</th>\n",
       "      <td>7</td>\n",
       "      <td>157</td>\n",
       "      <td>5</td>\n",
       "      <td>19</td>\n",
       "      <td>2015</td>\n",
       "      <td>2015</td>\n",
       "      <td>146300</td>\n",
       "      <td>10259000</td>\n",
       "      <td>66</td>\n",
       "      <td>60</td>\n",
       "      <td>3</td>\n",
       "      <td>0</td>\n",
       "      <td>1</td>\n",
       "      <td>0</td>\n",
       "      <td>1</td>\n",
       "      <td>0</td>\n",
       "      <td>0</td>\n",
       "      <td>1</td>\n",
       "      <td>1</td>\n",
       "    </tr>\n",
       "  </tbody>\n",
       "</table>\n",
       "</div>"
      ],
      "text/plain": [
       "   재계약횟수  거주개월  아파트 평점  평형대  퇴거연도  거주연도   월세(원)    보증금(원)  대표나이  나이  거주자 수  \\\n",
       "0      3    75       7   12  2012  2008   40300   1897000    92  79      1   \n",
       "1     10   222       7   12  2021  2009   64700   4320000    75  63      2   \n",
       "2      3    80       7   12  2020  2015   36700   1954000    81  75      2   \n",
       "3     10   222       8   19  2021  2019   66600   3116000    72  70      1   \n",
       "4      7   157       5   19  2015  2015  146300  10259000    66  60      3   \n",
       "\n",
       "   move_out  계약구분_해지  아파트 이름_까치아파트  아파트 이름_비둘기아파트  아파트 이름_용지아파트  \\\n",
       "0         1        1             0              0             1   \n",
       "1         1        0             0              0             1   \n",
       "2         1        0             0              0             1   \n",
       "3         1        0             0              0             0   \n",
       "4         0        1             0              1             0   \n",
       "\n",
       "   아파트 이름_지산5단지아파트  성별_여  결혼여부_미혼  \n",
       "0                0     0        1  \n",
       "1                0     0        0  \n",
       "2                0     0        0  \n",
       "3                1     1        1  \n",
       "4                0     1        1  "
      ]
     },
     "execution_count": 24,
     "metadata": {},
     "output_type": "execute_result"
    }
   ],
   "source": [
    "train_data.head()\n",
    "\n",
    "# 미혼 1 기혼 0\n",
    "# 해지 1 유효 0\n",
    "# 여 1 남 0"
   ]
  },
  {
   "cell_type": "code",
   "execution_count": 25,
   "metadata": {},
   "outputs": [
    {
     "name": "stdout",
     "output_type": "stream",
     "text": [
      "(60832, 18)\n",
      "(60832,)\n",
      "(26072, 18)\n"
     ]
    }
   ],
   "source": [
    "## 특징-정답데이터 분리\n",
    "X_train = train_data.drop(['move_out'], axis=1)\n",
    "y_train = train_data['move_out']\n",
    "\n",
    "print(X_train.shape)\n",
    "print(y_train.shape)\n",
    "\n",
    "print(test_data.shape)\n"
   ]
  },
  {
   "cell_type": "code",
   "execution_count": 26,
   "metadata": {},
   "outputs": [],
   "source": [
    "# 표준화 작업\n",
    "from sklearn.preprocessing import StandardScaler\n",
    "scaler = StandardScaler()\n",
    "\n",
    "X_scaled = scaler.fit_transform(X_train)\n",
    "X_test = scaler.fit_transform(test_data)"
   ]
  },
  {
   "cell_type": "code",
   "execution_count": 27,
   "metadata": {},
   "outputs": [],
   "source": [
    "\n",
    "X_train = pd.DataFrame(X_scaled, index=X_train.index,\n",
    "                       columns=X_train.columns)\n",
    "\n",
    "X_test = pd.DataFrame(X_test, index=test_data.index, columns=test_data.columns)\n"
   ]
  },
  {
   "cell_type": "code",
   "execution_count": 28,
   "metadata": {},
   "outputs": [
    {
     "name": "stdout",
     "output_type": "stream",
     "text": [
      "(60832, 18)\n",
      "(26072, 18)\n"
     ]
    }
   ],
   "source": [
    "print(X_train.shape)\n",
    "print(X_test.shape)"
   ]
  },
  {
   "cell_type": "code",
   "execution_count": 33,
   "metadata": {},
   "outputs": [],
   "source": [
    "### SMOTE 샘플링 추가 \n",
    "from sklearn.datasets import make_classification\n",
    "from sklearn.decomposition import PCA\n",
    "from imblearn.over_sampling import SMOTE"
   ]
  },
  {
   "cell_type": "code",
   "execution_count": 38,
   "metadata": {},
   "outputs": [
    {
     "name": "stdout",
     "output_type": "stream",
     "text": [
      "SMOTE 적용 전 학습용 피처/레이블 데이터 세트 :  (60832, 18) (60832,)\n",
      "SMOTE 적용 후 학습용 피처/레이블 데이터 세트 : (115764, 18) (115764,)\n",
      "SMOTE 적용 후 값의 분포 :\n",
      " 1    57882\n",
      "0    57882\n",
      "Name: move_out, dtype: int64\n"
     ]
    }
   ],
   "source": [
    "# 모델설정\n",
    "smote = SMOTE(random_state=42)\n",
    "X_train_over, y_train_over = smote.fit_sample(X_train, y_train)\n",
    "print(\"SMOTE 적용 전 학습용 피처/레이블 데이터 세트 : \", X_train.shape, y_train.shape)\n",
    "print('SMOTE 적용 후 학습용 피처/레이블 데이터 세트 :', X_train_over.shape, y_train_over.shape)\n",
    "print('SMOTE 적용 후 값의 분포 :\\n', pd.Series(y_train_over).value_counts())"
   ]
  },
  {
   "cell_type": "code",
   "execution_count": null,
   "metadata": {},
   "outputs": [],
   "source": [
    "# # 검증세트 필요시\n",
    "# from sklearn.model_selection import StratifiedShuffleSplit\n",
    "# split = StratifiedShuffleSplit(n_splits=1, test_size=0.2, random_state=42)\n",
    "\n",
    "# # 각 분할 결과의 index를 바탕으로 strat_train_set과 strat_test_set 생성\n",
    "# for train_index, test_index in split.split(X_train, y_train):\n",
    "#     strat_train_set = X_train.loc[train_index]\n",
    "#     strat_valid_set = X_train.loc[test_index]\n",
    "\n",
    "# print(strat_train_set.shape)\n",
    "# print(strat_valid_set.shape)\n",
    "\n",
    "# # train_set의 소득카테고리별 비율\n",
    "# print(strat_train_set[\"move_out\"].value_counts() / len(strat_train_set))\n",
    "\n",
    "# print('-'*40)\n",
    "\n",
    "# # 전체 데이터의 각 계층별 비율\n",
    "# print(train[\"move_out\"].value_counts() / len(train))"
   ]
  },
  {
   "cell_type": "markdown",
   "metadata": {},
   "source": [
    "#### 데이터 준비 끝 -> X_train_over, y_train_over\n"
   ]
  },
  {
   "cell_type": "markdown",
   "metadata": {},
   "source": [
    "### 모델링\n",
    "\n"
   ]
  },
  {
   "cell_type": "code",
   "execution_count": 39,
   "metadata": {},
   "outputs": [],
   "source": [
    "from sklearn.metrics import roc_auc_score\n",
    "from sklearn.metrics import confusion_matrix, classification_report\n",
    "from sklearn.model_selection import cross_val_score"
   ]
  },
  {
   "cell_type": "code",
   "execution_count": 40,
   "metadata": {},
   "outputs": [],
   "source": [
    "from sklearn.neighbors import KNeighborsClassifier\n",
    "from sklearn.tree import DecisionTreeClassifier\n",
    "from sklearn.linear_model import LogisticRegression\n",
    "\n",
    "# 앙상블 모델 \n",
    "from sklearn.ensemble import VotingClassifier\n",
    "from sklearn.ensemble import RandomForestClassifier\n",
    "from sklearn.ensemble import GradientBoostingClassifier\n",
    "from sklearn.ensemble import AdaBoostClassifier\n",
    "from sklearn.ensemble import ExtraTreesClassifier\n",
    "\n",
    "# 기타 \n",
    "import xgboost as xgb\n",
    "import catboost\n"
   ]
  },
  {
   "cell_type": "code",
   "execution_count": 41,
   "metadata": {},
   "outputs": [],
   "source": [
    "\n",
    "knn_clf = KNeighborsClassifier(n_neighbors=6)\n",
    "dt_clf = DecisionTreeClassifier(max_depth=8)\n",
    "lr_clf = LogisticRegression()\n",
    "\n",
    "# 배깅 \n",
    "rf_clf = RandomForestClassifier(n_estimators=300, random_state=42)\n",
    "et_clf = ExtraTreesClassifier(n_estimators=300, random_state=42)\n",
    "\n",
    "# 부스팅 \n",
    "gb_clf = GradientBoostingClassifier(learning_rate=0.05)\n",
    "ada_clf = AdaBoostClassifier(n_estimators=100)\n",
    "\n",
    "xgb_clf = xgb.XGBClassifier()\n",
    "cat_clf = catboost.CatBoostClassifier(iterations=300, learning_rate=0.1)\n",
    "\n",
    "# 보팅\n",
    "vot_clf = VotingClassifier(estimators=[(\"lr\", dt_clf), (\"rf\", rf_clf), (\"gbm\", gb_clf), (\"ada\", ada_clf)], voting=\"soft\")\n"
   ]
  },
  {
   "cell_type": "code",
   "execution_count": 44,
   "metadata": {},
   "outputs": [],
   "source": [
    "def model(name, x):\n",
    "    x.fit(X_train_over, y_train_over)\n",
    "    train_pred = x.predict(X_train_over)\n",
    "    train_scores = roc_auc_score(y_train_over, train_pred)\n",
    "    scores = cross_val_score(x, X_train_over, y_train_over, cv=5, scoring='roc_auc')  # 교차검증 \n",
    "    \n",
    "    print(name, train_scores, scores.mean())"
   ]
  },
  {
   "cell_type": "code",
   "execution_count": 45,
   "metadata": {},
   "outputs": [
    {
     "name": "stdout",
     "output_type": "stream",
     "text": [
      "knn 0.966423067620331 0.9851015757144717\n"
     ]
    }
   ],
   "source": [
    "# 대충 쓸만한 모델 찾기 위한 작업 \n",
    "model(\"knn\", knn_clf)  # baseline 모델 "
   ]
  },
  {
   "cell_type": "code",
   "execution_count": null,
   "metadata": {},
   "outputs": [],
   "source": [
    "model(\"dt\", dt_clf)\n",
    "model(\"rf\", rf_clf)\n",
    "model('lr', lr_clf)\n",
    "model('et', et_clf)\n",
    "model(\"xgb\", xgb_clf)\n",
    "model(\"gbm\", gb_clf)\n",
    "model(\"ada\", ada_clf)\n",
    "model(\"voting\", vot_clf)\n",
    "model(\"cat\", cat_clf)\n"
   ]
  },
  {
   "cell_type": "code",
   "execution_count": 813,
   "metadata": {},
   "outputs": [
    {
     "name": "stderr",
     "output_type": "stream",
     "text": [
      "c:\\Users\\AI06\\anaconda3\\envs\\ml\\lib\\site-packages\\xgboost\\sklearn.py:861: UserWarning: `eval_metric` in `fit` method is deprecated for better compatibility with scikit-learn, use `eval_metric` in constructor or`set_params` instead.\n",
      "  warnings.warn(\n"
     ]
    },
    {
     "data": {
      "text/html": [
       "<style>#sk-container-id-1 {color: black;background-color: white;}#sk-container-id-1 pre{padding: 0;}#sk-container-id-1 div.sk-toggleable {background-color: white;}#sk-container-id-1 label.sk-toggleable__label {cursor: pointer;display: block;width: 100%;margin-bottom: 0;padding: 0.3em;box-sizing: border-box;text-align: center;}#sk-container-id-1 label.sk-toggleable__label-arrow:before {content: \"▸\";float: left;margin-right: 0.25em;color: #696969;}#sk-container-id-1 label.sk-toggleable__label-arrow:hover:before {color: black;}#sk-container-id-1 div.sk-estimator:hover label.sk-toggleable__label-arrow:before {color: black;}#sk-container-id-1 div.sk-toggleable__content {max-height: 0;max-width: 0;overflow: hidden;text-align: left;background-color: #f0f8ff;}#sk-container-id-1 div.sk-toggleable__content pre {margin: 0.2em;color: black;border-radius: 0.25em;background-color: #f0f8ff;}#sk-container-id-1 input.sk-toggleable__control:checked~div.sk-toggleable__content {max-height: 200px;max-width: 100%;overflow: auto;}#sk-container-id-1 input.sk-toggleable__control:checked~label.sk-toggleable__label-arrow:before {content: \"▾\";}#sk-container-id-1 div.sk-estimator input.sk-toggleable__control:checked~label.sk-toggleable__label {background-color: #d4ebff;}#sk-container-id-1 div.sk-label input.sk-toggleable__control:checked~label.sk-toggleable__label {background-color: #d4ebff;}#sk-container-id-1 input.sk-hidden--visually {border: 0;clip: rect(1px 1px 1px 1px);clip: rect(1px, 1px, 1px, 1px);height: 1px;margin: -1px;overflow: hidden;padding: 0;position: absolute;width: 1px;}#sk-container-id-1 div.sk-estimator {font-family: monospace;background-color: #f0f8ff;border: 1px dotted black;border-radius: 0.25em;box-sizing: border-box;margin-bottom: 0.5em;}#sk-container-id-1 div.sk-estimator:hover {background-color: #d4ebff;}#sk-container-id-1 div.sk-parallel-item::after {content: \"\";width: 100%;border-bottom: 1px solid gray;flex-grow: 1;}#sk-container-id-1 div.sk-label:hover label.sk-toggleable__label {background-color: #d4ebff;}#sk-container-id-1 div.sk-serial::before {content: \"\";position: absolute;border-left: 1px solid gray;box-sizing: border-box;top: 0;bottom: 0;left: 50%;z-index: 0;}#sk-container-id-1 div.sk-serial {display: flex;flex-direction: column;align-items: center;background-color: white;padding-right: 0.2em;padding-left: 0.2em;position: relative;}#sk-container-id-1 div.sk-item {position: relative;z-index: 1;}#sk-container-id-1 div.sk-parallel {display: flex;align-items: stretch;justify-content: center;background-color: white;position: relative;}#sk-container-id-1 div.sk-item::before, #sk-container-id-1 div.sk-parallel-item::before {content: \"\";position: absolute;border-left: 1px solid gray;box-sizing: border-box;top: 0;bottom: 0;left: 50%;z-index: -1;}#sk-container-id-1 div.sk-parallel-item {display: flex;flex-direction: column;z-index: 1;position: relative;background-color: white;}#sk-container-id-1 div.sk-parallel-item:first-child::after {align-self: flex-end;width: 50%;}#sk-container-id-1 div.sk-parallel-item:last-child::after {align-self: flex-start;width: 50%;}#sk-container-id-1 div.sk-parallel-item:only-child::after {width: 0;}#sk-container-id-1 div.sk-dashed-wrapped {border: 1px dashed gray;margin: 0 0.4em 0.5em 0.4em;box-sizing: border-box;padding-bottom: 0.4em;background-color: white;}#sk-container-id-1 div.sk-label label {font-family: monospace;font-weight: bold;display: inline-block;line-height: 1.2em;}#sk-container-id-1 div.sk-label-container {text-align: center;}#sk-container-id-1 div.sk-container {/* jupyter's `normalize.less` sets `[hidden] { display: none; }` but bootstrap.min.css set `[hidden] { display: none !important; }` so we also need the `!important` here to be able to override the default hidden behavior on the sphinx rendered scikit-learn.org. See: https://github.com/scikit-learn/scikit-learn/issues/21755 */display: inline-block !important;position: relative;}#sk-container-id-1 div.sk-text-repr-fallback {display: none;}</style><div id=\"sk-container-id-1\" class=\"sk-top-container\"><div class=\"sk-text-repr-fallback\"><pre>XGBClassifier(base_score=0.5, booster=&#x27;gbtree&#x27;, callbacks=None,\n",
       "              colsample_bylevel=1, colsample_bynode=1, colsample_bytree=1,\n",
       "              early_stopping_rounds=None, enable_categorical=False,\n",
       "              eval_metric=None, feature_types=None, gamma=0, gpu_id=-1,\n",
       "              grow_policy=&#x27;depthwise&#x27;, importance_type=None,\n",
       "              interaction_constraints=&#x27;&#x27;, learning_rate=0.300000012,\n",
       "              max_bin=256, max_cat_threshold=64, max_cat_to_onehot=4,\n",
       "              max_delta_step=0, max_depth=6, max_leaves=0, min_child_weight=1,\n",
       "              missing=nan, monotone_constraints=&#x27;()&#x27;, n_estimators=100,\n",
       "              n_jobs=0, num_parallel_tree=1, predictor=&#x27;auto&#x27;, random_state=0, ...)</pre><b>In a Jupyter environment, please rerun this cell to show the HTML representation or trust the notebook. <br />On GitHub, the HTML representation is unable to render, please try loading this page with nbviewer.org.</b></div><div class=\"sk-container\" hidden><div class=\"sk-item\"><div class=\"sk-estimator sk-toggleable\"><input class=\"sk-toggleable__control sk-hidden--visually\" id=\"sk-estimator-id-1\" type=\"checkbox\" checked><label for=\"sk-estimator-id-1\" class=\"sk-toggleable__label sk-toggleable__label-arrow\">XGBClassifier</label><div class=\"sk-toggleable__content\"><pre>XGBClassifier(base_score=0.5, booster=&#x27;gbtree&#x27;, callbacks=None,\n",
       "              colsample_bylevel=1, colsample_bynode=1, colsample_bytree=1,\n",
       "              early_stopping_rounds=None, enable_categorical=False,\n",
       "              eval_metric=None, feature_types=None, gamma=0, gpu_id=-1,\n",
       "              grow_policy=&#x27;depthwise&#x27;, importance_type=None,\n",
       "              interaction_constraints=&#x27;&#x27;, learning_rate=0.300000012,\n",
       "              max_bin=256, max_cat_threshold=64, max_cat_to_onehot=4,\n",
       "              max_delta_step=0, max_depth=6, max_leaves=0, min_child_weight=1,\n",
       "              missing=nan, monotone_constraints=&#x27;()&#x27;, n_estimators=100,\n",
       "              n_jobs=0, num_parallel_tree=1, predictor=&#x27;auto&#x27;, random_state=0, ...)</pre></div></div></div></div></div>"
      ],
      "text/plain": [
       "XGBClassifier(base_score=0.5, booster='gbtree', callbacks=None,\n",
       "              colsample_bylevel=1, colsample_bynode=1, colsample_bytree=1,\n",
       "              early_stopping_rounds=None, enable_categorical=False,\n",
       "              eval_metric=None, feature_types=None, gamma=0, gpu_id=-1,\n",
       "              grow_policy='depthwise', importance_type=None,\n",
       "              interaction_constraints='', learning_rate=0.300000012,\n",
       "              max_bin=256, max_cat_threshold=64, max_cat_to_onehot=4,\n",
       "              max_delta_step=0, max_depth=6, max_leaves=0, min_child_weight=1,\n",
       "              missing=nan, monotone_constraints='()', n_estimators=100,\n",
       "              n_jobs=0, num_parallel_tree=1, predictor='auto', random_state=0, ...)"
      ]
     },
     "execution_count": 813,
     "metadata": {},
     "output_type": "execute_result"
    }
   ],
   "source": [
    "import xgboost \n",
    "xgb = xgboost.XGBClassifier()\n",
    "xgb.fit(X_train, y_train, eval_metric=\"auc\")"
   ]
  },
  {
   "cell_type": "code",
   "execution_count": 799,
   "metadata": {},
   "outputs": [],
   "source": [
    "# 보팅\n",
    "vot_clf = VotingClassifier(estimators=[(\n",
    "    \"lr\", lr_clf), (\"xgb\", xgb_clf), (\"gbm\", gb_clf), (\"ada\", ada_clf)], voting=\"soft\")\n"
   ]
  },
  {
   "cell_type": "code",
   "execution_count": 801,
   "metadata": {},
   "outputs": [
    {
     "name": "stdout",
     "output_type": "stream",
     "text": [
      "[16:27:50] WARNING: C:/buildkite-agent/builds/buildkite-windows-cpu-autoscaling-group-i-03de431ba26204c4d-1/xgboost/xgboost-ci-windows/src/learner.cc:767: \n",
      "Parameters: { \"scoring\" } are not used.\n",
      "\n",
      "[16:28:00] WARNING: C:/buildkite-agent/builds/buildkite-windows-cpu-autoscaling-group-i-03de431ba26204c4d-1/xgboost/xgboost-ci-windows/src/learner.cc:767: \n",
      "Parameters: { \"scoring\" } are not used.\n",
      "\n",
      "[16:28:08] WARNING: C:/buildkite-agent/builds/buildkite-windows-cpu-autoscaling-group-i-03de431ba26204c4d-1/xgboost/xgboost-ci-windows/src/learner.cc:767: \n",
      "Parameters: { \"scoring\" } are not used.\n",
      "\n",
      "[16:28:16] WARNING: C:/buildkite-agent/builds/buildkite-windows-cpu-autoscaling-group-i-03de431ba26204c4d-1/xgboost/xgboost-ci-windows/src/learner.cc:767: \n",
      "Parameters: { \"scoring\" } are not used.\n",
      "\n",
      "[16:28:24] WARNING: C:/buildkite-agent/builds/buildkite-windows-cpu-autoscaling-group-i-03de431ba26204c4d-1/xgboost/xgboost-ci-windows/src/learner.cc:767: \n",
      "Parameters: { \"scoring\" } are not used.\n",
      "\n",
      "[16:28:32] WARNING: C:/buildkite-agent/builds/buildkite-windows-cpu-autoscaling-group-i-03de431ba26204c4d-1/xgboost/xgboost-ci-windows/src/learner.cc:767: \n",
      "Parameters: { \"scoring\" } are not used.\n",
      "\n",
      "vot_clf 1.0 1.0\n",
      "[[ 2950     0]\n",
      " [    0 57882]]\n"
     ]
    }
   ],
   "source": [
    "model(\"vot_clf\", vot_clf)"
   ]
  },
  {
   "cell_type": "markdown",
   "metadata": {},
   "source": [
    "### 하이퍼파라미터 튜닝 "
   ]
  },
  {
   "cell_type": "markdown",
   "metadata": {},
   "source": [
    "#### 예측 및 제출 "
   ]
  },
  {
   "cell_type": "code",
   "execution_count": 49,
   "metadata": {},
   "outputs": [],
   "source": [
    "def test(model):\n",
    "    test_pred = model.predict(X_test)\n",
    "    test_prob = model.predict_proba(X_test)\n",
    "    \n",
    "    pred = pd.DataFrame(test_pred)\n",
    "    pred['test_prob'] = test_prob[:, 1]\n",
    "    \n",
    "    for i in range(len(pred)):\n",
    "        if pred[0][i] == 0:\n",
    "            pred[0][i] = 1 - pred['test_prob'][i]\n",
    "            \n",
    "    submission = pd.read_csv(\"sample_submission.csv\")\n",
    "    submission['move_out'] = pred['test_prob']\n",
    "    \n",
    "    return submission"
   ]
  },
  {
   "cell_type": "code",
   "execution_count": 844,
   "metadata": {},
   "outputs": [
    {
     "name": "stderr",
     "output_type": "stream",
     "text": [
      "C:\\Users\\AI06\\AppData\\Local\\Temp\\ipykernel_12584\\1319989964.py:10: SettingWithCopyWarning: \n",
      "A value is trying to be set on a copy of a slice from a DataFrame\n",
      "\n",
      "See the caveats in the documentation: https://pandas.pydata.org/pandas-docs/stable/user_guide/indexing.html#returning-a-view-versus-a-copy\n",
      "  pred[0][i] = 1 - pred['test_prob'][i]\n"
     ]
    }
   ],
   "source": [
    "file = test(xgb)\n",
    "file.to_csv(\"xgb2.csv\", index=False)"
   ]
  },
  {
   "cell_type": "code",
   "execution_count": 60,
   "metadata": {},
   "outputs": [
    {
     "name": "stdout",
     "output_type": "stream",
     "text": [
      "[0 1 1 ... 1 1 1]\n",
      "\n",
      "[0.33333333 1.         1.         ... 1.         1.         1.        ]\n"
     ]
    }
   ],
   "source": [
    "test_pred = knn_clf.predict(X_test)\n",
    "test_prob = knn_clf.predict_proba(X_test)[:, 1]\n",
    "print(test_pred)\n",
    "print()\n",
    "print(test_prob)\n"
   ]
  },
  {
   "cell_type": "code",
   "execution_count": 68,
   "metadata": {},
   "outputs": [
    {
     "name": "stdout",
     "output_type": "stream",
     "text": [
      "[0.66666667 1.         1.         ... 1.         1.         1.        ]\n"
     ]
    }
   ],
   "source": [
    "for i in range(len(test_pred)):\n",
    "    if test_pred[i] == 0:\n",
    "        test_prob[i] = 1 - test_prob[i]\n",
    "        \n",
    "print(test_prob)"
   ]
  },
  {
   "cell_type": "code",
   "execution_count": 69,
   "metadata": {},
   "outputs": [],
   "source": [
    "submission = pd.read_csv(\"sample_submission.csv\")\n",
    "submission['move_out'] = test_prob "
   ]
  },
  {
   "cell_type": "code",
   "execution_count": 70,
   "metadata": {},
   "outputs": [
    {
     "data": {
      "text/html": [
       "<div>\n",
       "<style scoped>\n",
       "    .dataframe tbody tr th:only-of-type {\n",
       "        vertical-align: middle;\n",
       "    }\n",
       "\n",
       "    .dataframe tbody tr th {\n",
       "        vertical-align: top;\n",
       "    }\n",
       "\n",
       "    .dataframe thead th {\n",
       "        text-align: right;\n",
       "    }\n",
       "</style>\n",
       "<table border=\"1\" class=\"dataframe\">\n",
       "  <thead>\n",
       "    <tr style=\"text-align: right;\">\n",
       "      <th></th>\n",
       "      <th>id</th>\n",
       "      <th>move_out</th>\n",
       "    </tr>\n",
       "  </thead>\n",
       "  <tbody>\n",
       "    <tr>\n",
       "      <th>0</th>\n",
       "      <td>77315</td>\n",
       "      <td>0.666667</td>\n",
       "    </tr>\n",
       "    <tr>\n",
       "      <th>1</th>\n",
       "      <td>9515</td>\n",
       "      <td>1.000000</td>\n",
       "    </tr>\n",
       "    <tr>\n",
       "      <th>2</th>\n",
       "      <td>1668</td>\n",
       "      <td>1.000000</td>\n",
       "    </tr>\n",
       "    <tr>\n",
       "      <th>3</th>\n",
       "      <td>57273</td>\n",
       "      <td>1.000000</td>\n",
       "    </tr>\n",
       "    <tr>\n",
       "      <th>4</th>\n",
       "      <td>19049</td>\n",
       "      <td>1.000000</td>\n",
       "    </tr>\n",
       "    <tr>\n",
       "      <th>...</th>\n",
       "      <td>...</td>\n",
       "      <td>...</td>\n",
       "    </tr>\n",
       "    <tr>\n",
       "      <th>26067</th>\n",
       "      <td>81241</td>\n",
       "      <td>1.000000</td>\n",
       "    </tr>\n",
       "    <tr>\n",
       "      <th>26068</th>\n",
       "      <td>83076</td>\n",
       "      <td>1.000000</td>\n",
       "    </tr>\n",
       "    <tr>\n",
       "      <th>26069</th>\n",
       "      <td>25820</td>\n",
       "      <td>1.000000</td>\n",
       "    </tr>\n",
       "    <tr>\n",
       "      <th>26070</th>\n",
       "      <td>36133</td>\n",
       "      <td>1.000000</td>\n",
       "    </tr>\n",
       "    <tr>\n",
       "      <th>26071</th>\n",
       "      <td>680</td>\n",
       "      <td>1.000000</td>\n",
       "    </tr>\n",
       "  </tbody>\n",
       "</table>\n",
       "<p>26072 rows × 2 columns</p>\n",
       "</div>"
      ],
      "text/plain": [
       "          id  move_out\n",
       "0      77315  0.666667\n",
       "1       9515  1.000000\n",
       "2       1668  1.000000\n",
       "3      57273  1.000000\n",
       "4      19049  1.000000\n",
       "...      ...       ...\n",
       "26067  81241  1.000000\n",
       "26068  83076  1.000000\n",
       "26069  25820  1.000000\n",
       "26070  36133  1.000000\n",
       "26071    680  1.000000\n",
       "\n",
       "[26072 rows x 2 columns]"
      ]
     },
     "execution_count": 70,
     "metadata": {},
     "output_type": "execute_result"
    }
   ],
   "source": [
    "submission "
   ]
  },
  {
   "cell_type": "code",
   "execution_count": 71,
   "metadata": {},
   "outputs": [],
   "source": [
    "submission.to_csv(\"knn_clf3.csv\", index=False)"
   ]
  },
  {
   "cell_type": "code",
   "execution_count": 843,
   "metadata": {},
   "outputs": [
    {
     "data": {
      "text/html": [
       "<div>\n",
       "<style scoped>\n",
       "    .dataframe tbody tr th:only-of-type {\n",
       "        vertical-align: middle;\n",
       "    }\n",
       "\n",
       "    .dataframe tbody tr th {\n",
       "        vertical-align: top;\n",
       "    }\n",
       "\n",
       "    .dataframe thead th {\n",
       "        text-align: right;\n",
       "    }\n",
       "</style>\n",
       "<table border=\"1\" class=\"dataframe\">\n",
       "  <thead>\n",
       "    <tr style=\"text-align: right;\">\n",
       "      <th></th>\n",
       "      <th>id</th>\n",
       "      <th>move_out</th>\n",
       "    </tr>\n",
       "  </thead>\n",
       "  <tbody>\n",
       "    <tr>\n",
       "      <th>0</th>\n",
       "      <td>77315</td>\n",
       "      <td>0.999938</td>\n",
       "    </tr>\n",
       "    <tr>\n",
       "      <th>1</th>\n",
       "      <td>9515</td>\n",
       "      <td>1.000000</td>\n",
       "    </tr>\n",
       "    <tr>\n",
       "      <th>2</th>\n",
       "      <td>1668</td>\n",
       "      <td>0.999999</td>\n",
       "    </tr>\n",
       "    <tr>\n",
       "      <th>3</th>\n",
       "      <td>57273</td>\n",
       "      <td>1.000000</td>\n",
       "    </tr>\n",
       "    <tr>\n",
       "      <th>4</th>\n",
       "      <td>19049</td>\n",
       "      <td>0.999999</td>\n",
       "    </tr>\n",
       "    <tr>\n",
       "      <th>...</th>\n",
       "      <td>...</td>\n",
       "      <td>...</td>\n",
       "    </tr>\n",
       "    <tr>\n",
       "      <th>26067</th>\n",
       "      <td>81241</td>\n",
       "      <td>1.000000</td>\n",
       "    </tr>\n",
       "    <tr>\n",
       "      <th>26068</th>\n",
       "      <td>83076</td>\n",
       "      <td>1.000000</td>\n",
       "    </tr>\n",
       "    <tr>\n",
       "      <th>26069</th>\n",
       "      <td>25820</td>\n",
       "      <td>0.999977</td>\n",
       "    </tr>\n",
       "    <tr>\n",
       "      <th>26070</th>\n",
       "      <td>36133</td>\n",
       "      <td>0.999999</td>\n",
       "    </tr>\n",
       "    <tr>\n",
       "      <th>26071</th>\n",
       "      <td>680</td>\n",
       "      <td>0.999998</td>\n",
       "    </tr>\n",
       "  </tbody>\n",
       "</table>\n",
       "<p>26072 rows × 2 columns</p>\n",
       "</div>"
      ],
      "text/plain": [
       "          id  move_out\n",
       "0      77315  0.999938\n",
       "1       9515  1.000000\n",
       "2       1668  0.999999\n",
       "3      57273  1.000000\n",
       "4      19049  0.999999\n",
       "...      ...       ...\n",
       "26067  81241  1.000000\n",
       "26068  83076  1.000000\n",
       "26069  25820  0.999977\n",
       "26070  36133  0.999999\n",
       "26071    680  0.999998\n",
       "\n",
       "[26072 rows x 2 columns]"
      ]
     },
     "execution_count": 843,
     "metadata": {},
     "output_type": "execute_result"
    }
   ],
   "source": [
    "file "
   ]
  }
 ],
 "metadata": {
  "kernelspec": {
   "display_name": "Python 3.8.13 64-bit ('ml': conda)",
   "language": "python",
   "name": "python3"
  },
  "language_info": {
   "codemirror_mode": {
    "name": "ipython",
    "version": 3
   },
   "file_extension": ".py",
   "mimetype": "text/x-python",
   "name": "python",
   "nbconvert_exporter": "python",
   "pygments_lexer": "ipython3",
   "version": "3.8.13"
  },
  "orig_nbformat": 4,
  "vscode": {
   "interpreter": {
    "hash": "266dd27284d9605b7b690db531109e144e78033e56a499ac8e3cb0ba4280d983"
   }
  }
 },
 "nbformat": 4,
 "nbformat_minor": 2
}
